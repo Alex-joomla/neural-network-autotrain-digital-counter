{
 "cells": [
  {
   "cell_type": "code",
   "execution_count": 4,
   "id": "bdbef77a-73c3-4822-97e2-f917e7ea1b58",
   "metadata": {},
   "outputs": [],
   "source": [
    "from fpdf import FPDF\n",
    "from matplotlib.backends.backend_agg import FigureCanvasAgg as FigureCanvas\n",
    "from matplotlib.figure import Figure\n",
    "import numpy\n",
    "from PIL import Image\n",
    "\n",
    "\n",
    "fig = Figure(figsize=(6, 2), dpi=100)\n",
    "canvas = FigureCanvas(fig)\n",
    "axes = fig.gca()\n",
    "axes.text(0, .5, r\"$x^n + y^n = \\frac{a}{b}$\", fontsize=60)  # LaTeX syntax\n",
    "axes.axis(\"off\")\n",
    "canvas.draw()\n",
    "img = Image.fromarray(numpy.asarray(canvas.buffer_rgba()))\n",
    "\n",
    "pdf = FPDF()\n",
    "pdf.add_page()\n",
    "pdf.image(img, w=200)\n",
    "pdf.output(\"equation-with-matplotlib.pdf\")"
   ]
  },
  {
   "cell_type": "code",
   "execution_count": null,
   "id": "d1a72756-021c-48dc-b584-7793cd9ee598",
   "metadata": {},
   "outputs": [],
   "source": []
  }
 ],
 "metadata": {
  "kernelspec": {
   "display_name": "Python 3 (ipykernel)",
   "language": "python",
   "name": "python3"
  },
  "language_info": {
   "codemirror_mode": {
    "name": "ipython",
    "version": 3
   },
   "file_extension": ".py",
   "mimetype": "text/x-python",
   "name": "python",
   "nbconvert_exporter": "python",
   "pygments_lexer": "ipython3",
   "version": "3.8.12"
  }
 },
 "nbformat": 4,
 "nbformat_minor": 5
}
