{
 "cells": [
  {
   "cell_type": "markdown",
   "metadata": {},
   "source": [
    "# CNN Training\n",
    "\n",
    "Target of this code is to train a CNN network to classify images of a digital readout to the digits 0 to 9. Additionally a category \"NaN\" is introduced, to mark images that are not amibiguous.\n",
    "\n",
    "### Preparing the training\n",
    "* First all libraries are loaded\n",
    "    * It is assumed, that they are installed during the Python setup\n",
    "* matplotlib is set to print the output inline in the jupyter notebook"
   ]
  },
  {
   "cell_type": "code",
   "execution_count": 1,
   "metadata": {
    "scrolled": true
   },
   "outputs": [],
   "source": [
    "########### Basic Parameters for Running: ################################\n",
    "    \n",
    "TFliteNamingAndVersion = \"dig1330s2\"   # Used for tflite Filename\n",
    "Training_Percentage = 0.0              # 0.0 = Use all Images for Training\n",
    "Epoch_Anz = 500\n",
    "\n",
    "##########################################################################\n",
    "\n",
    "\n",
    "import tensorflow as tf\n",
    "import matplotlib.pyplot as plt\n",
    "import glob\n",
    "import os\n",
    "import numpy as np\n",
    "from sklearn.utils import shuffle\n",
    "from tensorflow.python import keras\n",
    "from tensorflow.python.keras import Sequential\n",
    "from tensorflow.python.keras.layers import Dense, InputLayer, Conv2D, MaxPool2D, Flatten, BatchNormalization\n",
    "from tensorflow.keras.preprocessing.image import ImageDataGenerator\n",
    "from sklearn.model_selection import train_test_split\n",
    "from tensorflow.keras.callbacks import History \n",
    "from tensorflow.keras.utils import to_categorical\n",
    "from PIL import Image \n",
    "from pathlib import Path\n",
    "\n",
    "loss_ges = np.array([])\n",
    "val_loss_ges = np.array([])\n",
    "\n",
    "%matplotlib inline\n",
    "np.set_printoptions(precision=4)\n",
    "np.set_printoptions(suppress=True)"
   ]
  },
  {
   "cell_type": "markdown",
   "metadata": {},
   "source": [
    "### Load training data\n",
    "* The data is expected in the \"Input_dir\"\n",
    "* Inside subdirectories are expected from -1, 0, 1, ... 9 in which the pictures are sorted according to their values (=category)\n",
    "* Picture size must be 20x32 with 3 color channels (RGB)\n",
    "* The filename can be arbitrary\n",
    "\n",
    "* The images are stored in the x_data[]\n",
    "* The expected category for each image in the corresponding y_data[]\n",
    "\n",
    "* The last step is a shuffle (from sklearn.utils) and split the data into training and validation data"
   ]
  },
  {
   "cell_type": "code",
   "execution_count": 2,
   "metadata": {},
   "outputs": [
    {
     "name": "stdout",
     "output_type": "stream",
     "text": [
      "(1616, 32, 20, 3)\n",
      "(1616, 11)\n"
     ]
    }
   ],
   "source": [
    "Input_dir='ziffer_sortiert_resize'\n",
    "\n",
    "files = glob.glob(Input_dir + '/*.jpg')\n",
    "x_data = []\n",
    "y_data = []\n",
    "\n",
    "for aktfile in files:\n",
    "    base = os.path.basename(aktfile)\n",
    "    target = base[0:1]\n",
    "    if target == \"N\":\n",
    "        category = 10                # NaN does not work --> convert to 10\n",
    "    else:\n",
    "        category = int(target)\n",
    "    test_image = Image.open(aktfile)\n",
    "    test_image = np.array(test_image, dtype=\"float32\")\n",
    "    x_data.append(test_image)\n",
    "    y_data.append(np.array([category]))\n",
    "\n",
    "x_data = np.array(x_data)\n",
    "y_data = np.array(y_data)\n",
    "y_data = to_categorical(y_data, 11)\n",
    "print(x_data.shape)\n",
    "print(y_data.shape)\n",
    "\n",
    "x_data, y_data = shuffle(x_data, y_data)\n",
    "\n",
    "if (Training_Percentage > 0):\n",
    "    X_train, X_test, y_train, y_test = train_test_split(x_data, y_data, test_size=Training_Percentage)\n",
    "else:\n",
    "    X_train = x_data\n",
    "    y_train = y_data"
   ]
  },
  {
   "cell_type": "markdown",
   "metadata": {},
   "source": [
    "### Define the model\n",
    "\n",
    "The layout of the network ist a typcial CNN network with alternating **Conv2D** and **MaxPool2D** layers. Finished after **flattening** with additional **Dense** layer.\n",
    "\n",
    "#### Important\n",
    "* Shape of the input layer: (32, 20, 3)\n",
    "* Number of output layers: 11\n",
    "* As loss function \"categorical_crossentropy\" is choosen, as it is a categories task"
   ]
  },
  {
   "cell_type": "code",
   "execution_count": 3,
   "metadata": {},
   "outputs": [
    {
     "name": "stdout",
     "output_type": "stream",
     "text": [
      "Model: \"sequential\"\n",
      "_________________________________________________________________\n",
      "Layer (type)                 Output Shape              Param #   \n",
      "=================================================================\n",
      "batch_normalization (BatchNo (None, 32, 20, 3)         12        \n",
      "_________________________________________________________________\n",
      "conv2d (Conv2D)              (None, 32, 20, 32)        896       \n",
      "_________________________________________________________________\n",
      "max_pooling2d (MaxPooling2D) (None, 16, 10, 32)        0         \n",
      "_________________________________________________________________\n",
      "conv2d_1 (Conv2D)            (None, 16, 10, 32)        9248      \n",
      "_________________________________________________________________\n",
      "max_pooling2d_1 (MaxPooling2 (None, 8, 5, 32)          0         \n",
      "_________________________________________________________________\n",
      "conv2d_2 (Conv2D)            (None, 8, 5, 32)          9248      \n",
      "_________________________________________________________________\n",
      "max_pooling2d_2 (MaxPooling2 (None, 4, 2, 32)          0         \n",
      "_________________________________________________________________\n",
      "flatten (Flatten)            (None, 256)               0         \n",
      "_________________________________________________________________\n",
      "dense (Dense)                (None, 256)               65792     \n",
      "_________________________________________________________________\n",
      "dense_1 (Dense)              (None, 11)                2827      \n",
      "=================================================================\n",
      "Total params: 88,023\n",
      "Trainable params: 88,017\n",
      "Non-trainable params: 6\n",
      "_________________________________________________________________\n"
     ]
    }
   ],
   "source": [
    "model = Sequential()\n",
    "model.add(BatchNormalization(input_shape=(32,20,3)))\n",
    "model.add(Conv2D(32, (3, 3), padding='same', activation=\"relu\"))\n",
    "model.add(MaxPool2D(pool_size=(2,2)))\n",
    "model.add(Conv2D(32, (3, 3), padding='same', activation=\"relu\"))\n",
    "model.add(MaxPool2D(pool_size=(2,2)))\n",
    "model.add(Conv2D(32, (3, 3), padding='same', activation=\"relu\"))\n",
    "model.add(MaxPool2D(pool_size=(2,2)))\n",
    "model.add(Flatten())\n",
    "model.add(Dense(256,activation=\"relu\"))\n",
    "model.add(Dense(11, activation = \"softmax\"))\n",
    "model.summary()\n",
    "\n",
    "model.compile(loss=keras.losses.categorical_crossentropy, optimizer=tf.keras.optimizers.Adadelta(learning_rate=1.0, rho=0.95), metrics = [\"accuracy\"])"
   ]
  },
  {
   "cell_type": "markdown",
   "metadata": {},
   "source": [
    "# Training\n",
    "The input pictures are randomly scattered for brightness, pixel shift variations and rotation angle. This is implemented with a ImageDataGenerator.\n"
   ]
  },
  {
   "cell_type": "code",
   "execution_count": 4,
   "metadata": {
    "scrolled": true
   },
   "outputs": [
    {
     "name": "stdout",
     "output_type": "stream",
     "text": [
      "Epoch 1/500\n",
      "404/404 [==============================] - 6s 13ms/step - loss: 2.2360 - accuracy: 0.2977\n",
      "Epoch 2/500\n",
      "404/404 [==============================] - 5s 12ms/step - loss: 1.6508 - accuracy: 0.4748\n",
      "Epoch 3/500\n",
      "404/404 [==============================] - 5s 12ms/step - loss: 1.0173 - accuracy: 0.6648\n",
      "Epoch 4/500\n",
      "404/404 [==============================] - 5s 12ms/step - loss: 0.7764 - accuracy: 0.7472\n",
      "Epoch 5/500\n",
      "404/404 [==============================] - 5s 12ms/step - loss: 0.6733 - accuracy: 0.7836 0s - loss: 0.6737 - accuracy: 0.78\n",
      "Epoch 6/500\n",
      "404/404 [==============================] - 5s 13ms/step - loss: 0.6556 - accuracy: 0.7987\n",
      "Epoch 7/500\n",
      "404/404 [==============================] - 5s 13ms/step - loss: 0.5750 - accuracy: 0.8287\n",
      "Epoch 8/500\n",
      "404/404 [==============================] - 5s 14ms/step - loss: 0.4341 - accuracy: 0.8711\n",
      "Epoch 9/500\n",
      "404/404 [==============================] - 5s 12ms/step - loss: 0.4855 - accuracy: 0.8510\n",
      "Epoch 10/500\n",
      "404/404 [==============================] - 5s 13ms/step - loss: 0.4765 - accuracy: 0.8553\n",
      "Epoch 11/500\n",
      "404/404 [==============================] - 5s 12ms/step - loss: 0.4166 - accuracy: 0.8605\n",
      "Epoch 12/500\n",
      "404/404 [==============================] - 5s 13ms/step - loss: 0.4090 - accuracy: 0.8862\n",
      "Epoch 13/500\n",
      "404/404 [==============================] - 5s 11ms/step - loss: 0.3515 - accuracy: 0.8788\n",
      "Epoch 14/500\n",
      "404/404 [==============================] - 5s 11ms/step - loss: 0.3280 - accuracy: 0.9007\n",
      "Epoch 15/500\n",
      "404/404 [==============================] - 4s 11ms/step - loss: 0.2744 - accuracy: 0.9148\n",
      "Epoch 16/500\n",
      "404/404 [==============================] - 5s 12ms/step - loss: 0.3447 - accuracy: 0.9069\n",
      "Epoch 17/500\n",
      "404/404 [==============================] - 5s 13ms/step - loss: 0.2705 - accuracy: 0.9186\n",
      "Epoch 18/500\n",
      "404/404 [==============================] - 5s 13ms/step - loss: 0.2386 - accuracy: 0.9206 0s - l\n",
      "Epoch 19/500\n",
      "404/404 [==============================] - 5s 13ms/step - loss: 0.2146 - accuracy: 0.9370\n",
      "Epoch 20/500\n",
      "404/404 [==============================] - 5s 12ms/step - loss: 0.2903 - accuracy: 0.9217\n",
      "Epoch 21/500\n",
      "404/404 [==============================] - 5s 12ms/step - loss: 0.2642 - accuracy: 0.9297\n",
      "Epoch 22/500\n",
      "404/404 [==============================] - 5s 12ms/step - loss: 0.1993 - accuracy: 0.9331 0s - loss: 0.197\n",
      "Epoch 23/500\n",
      "404/404 [==============================] - 5s 12ms/step - loss: 0.2904 - accuracy: 0.9166 0s -\n",
      "Epoch 24/500\n",
      "404/404 [==============================] - 5s 12ms/step - loss: 0.1928 - accuracy: 0.9426\n",
      "Epoch 25/500\n",
      "404/404 [==============================] - 5s 11ms/step - loss: 0.2061 - accuracy: 0.9391\n",
      "Epoch 26/500\n",
      "404/404 [==============================] - 5s 12ms/step - loss: 0.1573 - accuracy: 0.9520\n",
      "Epoch 27/500\n",
      "404/404 [==============================] - 5s 12ms/step - loss: 0.1616 - accuracy: 0.9462\n",
      "Epoch 28/500\n",
      "404/404 [==============================] - 5s 13ms/step - loss: 0.1830 - accuracy: 0.9412\n",
      "Epoch 29/500\n",
      "404/404 [==============================] - 6s 14ms/step - loss: 0.2137 - accuracy: 0.9363 0s - l\n",
      "Epoch 30/500\n",
      "404/404 [==============================] - 5s 12ms/step - loss: 0.1766 - accuracy: 0.9499\n",
      "Epoch 31/500\n",
      "404/404 [==============================] - 5s 12ms/step - loss: 0.1319 - accuracy: 0.9602\n",
      "Epoch 32/500\n",
      "404/404 [==============================] - 5s 13ms/step - loss: 0.1440 - accuracy: 0.9461\n",
      "Epoch 33/500\n",
      "404/404 [==============================] - 5s 11ms/step - loss: 0.1298 - accuracy: 0.9545 1s - loss: 0.1280 -  - ETA: 0s - loss: 0.129\n",
      "Epoch 34/500\n",
      "404/404 [==============================] - 5s 11ms/step - loss: 0.1570 - accuracy: 0.9545\n",
      "Epoch 35/500\n",
      "404/404 [==============================] - 5s 11ms/step - loss: 0.1515 - accuracy: 0.9498\n",
      "Epoch 36/500\n",
      "404/404 [==============================] - 4s 11ms/step - loss: 0.1757 - accuracy: 0.9510\n",
      "Epoch 37/500\n",
      "404/404 [==============================] - 4s 11ms/step - loss: 0.1068 - accuracy: 0.9655\n",
      "Epoch 38/500\n",
      "404/404 [==============================] - 4s 11ms/step - loss: 0.0939 - accuracy: 0.9674\n",
      "Epoch 39/500\n",
      "404/404 [==============================] - 5s 11ms/step - loss: 0.1116 - accuracy: 0.9630\n",
      "Epoch 40/500\n",
      "404/404 [==============================] - 5s 11ms/step - loss: 0.1098 - accuracy: 0.9668\n",
      "Epoch 41/500\n",
      "404/404 [==============================] - 5s 11ms/step - loss: 0.1630 - accuracy: 0.9610\n",
      "Epoch 42/500\n",
      "404/404 [==============================] - 5s 11ms/step - loss: 0.1485 - accuracy: 0.9524\n",
      "Epoch 43/500\n",
      "404/404 [==============================] - 5s 11ms/step - loss: 0.1238 - accuracy: 0.9653\n",
      "Epoch 44/500\n",
      "404/404 [==============================] - 4s 11ms/step - loss: 0.1486 - accuracy: 0.9619 0s - loss: 0.1499 - \n",
      "Epoch 45/500\n",
      "404/404 [==============================] - 5s 11ms/step - loss: 0.1287 - accuracy: 0.9678\n",
      "Epoch 46/500\n",
      "404/404 [==============================] - 5s 11ms/step - loss: 0.1398 - accuracy: 0.9643\n",
      "Epoch 47/500\n",
      "404/404 [==============================] - 5s 12ms/step - loss: 0.1143 - accuracy: 0.9687\n",
      "Epoch 48/500\n",
      "404/404 [==============================] - 4s 11ms/step - loss: 0.1308 - accuracy: 0.9639\n",
      "Epoch 49/500\n",
      "404/404 [==============================] - 5s 11ms/step - loss: 0.1296 - accuracy: 0.9626\n",
      "Epoch 50/500\n",
      "404/404 [==============================] - 5s 11ms/step - loss: 0.1157 - accuracy: 0.9595\n",
      "Epoch 51/500\n",
      "404/404 [==============================] - 5s 11ms/step - loss: 0.1329 - accuracy: 0.9618\n",
      "Epoch 52/500\n",
      "404/404 [==============================] - 5s 12ms/step - loss: 0.0978 - accuracy: 0.9669 0s - loss: 0.0983 - accuracy\n",
      "Epoch 53/500\n",
      "404/404 [==============================] - 5s 12ms/step - loss: 0.0939 - accuracy: 0.9625\n",
      "Epoch 54/500\n",
      "404/404 [==============================] - 5s 11ms/step - loss: 0.1325 - accuracy: 0.9533 0s - loss: 0.134\n",
      "Epoch 55/500\n",
      "404/404 [==============================] - 5s 12ms/step - loss: 0.0893 - accuracy: 0.9762\n",
      "Epoch 56/500\n",
      "404/404 [==============================] - 5s 11ms/step - loss: 0.1172 - accuracy: 0.9618\n",
      "Epoch 57/500\n",
      "404/404 [==============================] - 4s 11ms/step - loss: 0.0617 - accuracy: 0.9795 \n",
      "Epoch 58/500\n",
      "404/404 [==============================] - 5s 11ms/step - loss: 0.0778 - accuracy: 0.9722\n",
      "Epoch 59/500\n",
      "404/404 [==============================] - 5s 11ms/step - loss: 0.1478 - accuracy: 0.9540\n",
      "Epoch 60/500\n",
      "404/404 [==============================] - 5s 11ms/step - loss: 0.0887 - accuracy: 0.9738\n",
      "Epoch 61/500\n",
      "404/404 [==============================] - 5s 11ms/step - loss: 0.0995 - accuracy: 0.9688\n",
      "Epoch 62/500\n",
      "404/404 [==============================] - 5s 11ms/step - loss: 0.1169 - accuracy: 0.9589\n",
      "Epoch 63/500\n",
      "404/404 [==============================] - 5s 11ms/step - loss: 0.1075 - accuracy: 0.9709\n",
      "Epoch 64/500\n",
      "404/404 [==============================] - 5s 11ms/step - loss: 0.0484 - accuracy: 0.9819\n",
      "Epoch 65/500\n",
      "404/404 [==============================] - 5s 11ms/step - loss: 0.1263 - accuracy: 0.9644\n",
      "Epoch 66/500\n",
      "404/404 [==============================] - 5s 12ms/step - loss: 0.0835 - accuracy: 0.9753\n",
      "Epoch 67/500\n",
      "404/404 [==============================] - 5s 11ms/step - loss: 0.0766 - accuracy: 0.9779\n",
      "Epoch 68/500\n",
      "404/404 [==============================] - 5s 11ms/step - loss: 0.0926 - accuracy: 0.9745\n",
      "Epoch 69/500\n",
      "404/404 [==============================] - 5s 11ms/step - loss: 0.0739 - accuracy: 0.9739\n",
      "Epoch 70/500\n",
      "404/404 [==============================] - 5s 11ms/step - loss: 0.0801 - accuracy: 0.9805\n",
      "Epoch 71/500\n",
      "404/404 [==============================] - 4s 11ms/step - loss: 0.0835 - accuracy: 0.9691\n",
      "Epoch 72/500\n",
      "404/404 [==============================] - 4s 11ms/step - loss: 0.0808 - accuracy: 0.9770\n",
      "Epoch 73/500\n",
      "404/404 [==============================] - 5s 11ms/step - loss: 0.0993 - accuracy: 0.9673\n",
      "Epoch 74/500\n",
      "404/404 [==============================] - 5s 11ms/step - loss: 0.0749 - accuracy: 0.9778\n",
      "Epoch 75/500\n",
      "404/404 [==============================] - 4s 11ms/step - loss: 0.0861 - accuracy: 0.9836\n",
      "Epoch 76/500\n",
      "404/404 [==============================] - 4s 11ms/step - loss: 0.0640 - accuracy: 0.9837\n",
      "Epoch 77/500\n",
      "404/404 [==============================] - 4s 11ms/step - loss: 0.0826 - accuracy: 0.9741\n",
      "Epoch 78/500\n"
     ]
    },
    {
     "name": "stdout",
     "output_type": "stream",
     "text": [
      "404/404 [==============================] - 5s 11ms/step - loss: 0.0916 - accuracy: 0.9745\n",
      "Epoch 79/500\n",
      "404/404 [==============================] - 4s 11ms/step - loss: 0.0905 - accuracy: 0.9745\n",
      "Epoch 80/500\n",
      "404/404 [==============================] - 4s 11ms/step - loss: 0.0495 - accuracy: 0.9854\n",
      "Epoch 81/500\n",
      "404/404 [==============================] - 4s 11ms/step - loss: 0.1054 - accuracy: 0.9720\n",
      "Epoch 82/500\n",
      "404/404 [==============================] - 5s 11ms/step - loss: 0.0834 - accuracy: 0.9639\n",
      "Epoch 83/500\n",
      "404/404 [==============================] - 4s 11ms/step - loss: 0.0881 - accuracy: 0.9775\n",
      "Epoch 84/500\n",
      "404/404 [==============================] - 5s 11ms/step - loss: 0.0348 - accuracy: 0.9882\n",
      "Epoch 85/500\n",
      "404/404 [==============================] - 4s 11ms/step - loss: 0.1069 - accuracy: 0.9770\n",
      "Epoch 86/500\n",
      "404/404 [==============================] - 4s 11ms/step - loss: 0.0759 - accuracy: 0.9839\n",
      "Epoch 87/500\n",
      "404/404 [==============================] - 4s 11ms/step - loss: 0.0645 - accuracy: 0.9822\n",
      "Epoch 88/500\n",
      "404/404 [==============================] - 5s 12ms/step - loss: 0.0642 - accuracy: 0.9778 0s - loss: 0.0640 - accuracy\n",
      "Epoch 89/500\n",
      "404/404 [==============================] - 5s 11ms/step - loss: 0.0590 - accuracy: 0.9794\n",
      "Epoch 90/500\n",
      "404/404 [==============================] - 5s 12ms/step - loss: 0.0685 - accuracy: 0.9820 0s - l\n",
      "Epoch 91/500\n",
      "404/404 [==============================] - 5s 12ms/step - loss: 0.0840 - accuracy: 0.9725\n",
      "Epoch 92/500\n",
      "404/404 [==============================] - 5s 11ms/step - loss: 0.0694 - accuracy: 0.9837\n",
      "Epoch 93/500\n",
      "404/404 [==============================] - 5s 11ms/step - loss: 0.0857 - accuracy: 0.9708\n",
      "Epoch 94/500\n",
      "404/404 [==============================] - 5s 11ms/step - loss: 0.0828 - accuracy: 0.9788\n",
      "Epoch 95/500\n",
      "404/404 [==============================] - 4s 11ms/step - loss: 0.0640 - accuracy: 0.9807\n",
      "Epoch 96/500\n",
      "404/404 [==============================] - 5s 11ms/step - loss: 0.0685 - accuracy: 0.9813\n",
      "Epoch 97/500\n",
      "404/404 [==============================] - 5s 11ms/step - loss: 0.0381 - accuracy: 0.9883\n",
      "Epoch 98/500\n",
      "404/404 [==============================] - 5s 11ms/step - loss: 0.0427 - accuracy: 0.9870\n",
      "Epoch 99/500\n",
      "404/404 [==============================] - 4s 11ms/step - loss: 0.0798 - accuracy: 0.9770\n",
      "Epoch 100/500\n",
      "404/404 [==============================] - 5s 11ms/step - loss: 0.0519 - accuracy: 0.9817\n",
      "Epoch 101/500\n",
      "404/404 [==============================] - 5s 11ms/step - loss: 0.0550 - accuracy: 0.9820\n",
      "Epoch 102/500\n",
      "404/404 [==============================] - 5s 11ms/step - loss: 0.0987 - accuracy: 0.9766\n",
      "Epoch 103/500\n",
      "404/404 [==============================] - 5s 12ms/step - loss: 0.0689 - accuracy: 0.9779\n",
      "Epoch 104/500\n",
      "404/404 [==============================] - 5s 11ms/step - loss: 0.0464 - accuracy: 0.9829\n",
      "Epoch 105/500\n",
      "404/404 [==============================] - 5s 11ms/step - loss: 0.0803 - accuracy: 0.9784\n",
      "Epoch 106/500\n",
      "404/404 [==============================] - 4s 11ms/step - loss: 0.0552 - accuracy: 0.9845\n",
      "Epoch 107/500\n",
      "404/404 [==============================] - 5s 11ms/step - loss: 0.0762 - accuracy: 0.9852\n",
      "Epoch 108/500\n",
      "404/404 [==============================] - 4s 11ms/step - loss: 0.0346 - accuracy: 0.9885\n",
      "Epoch 109/500\n",
      "404/404 [==============================] - 4s 11ms/step - loss: 0.0496 - accuracy: 0.9864\n",
      "Epoch 110/500\n",
      "404/404 [==============================] - 5s 11ms/step - loss: 0.0692 - accuracy: 0.9856\n",
      "Epoch 111/500\n",
      "404/404 [==============================] - 5s 11ms/step - loss: 0.0449 - accuracy: 0.9871\n",
      "Epoch 112/500\n",
      "404/404 [==============================] - 5s 11ms/step - loss: 0.0600 - accuracy: 0.9836\n",
      "Epoch 113/500\n",
      "404/404 [==============================] - 5s 11ms/step - loss: 0.0413 - accuracy: 0.9864\n",
      "Epoch 114/500\n",
      "404/404 [==============================] - 5s 11ms/step - loss: 0.0744 - accuracy: 0.9826 0s - loss: 0.0746 - accuracy: 0.98\n",
      "Epoch 115/500\n",
      "404/404 [==============================] - 5s 11ms/step - loss: 0.0712 - accuracy: 0.9832\n",
      "Epoch 116/500\n",
      "404/404 [==============================] - 5s 11ms/step - loss: 0.0576 - accuracy: 0.9826\n",
      "Epoch 117/500\n",
      "404/404 [==============================] - 5s 11ms/step - loss: 0.0593 - accuracy: 0.9767\n",
      "Epoch 118/500\n",
      "404/404 [==============================] - 5s 12ms/step - loss: 0.0658 - accuracy: 0.9825\n",
      "Epoch 119/500\n",
      "404/404 [==============================] - 5s 11ms/step - loss: 0.0500 - accuracy: 0.9882 0s - loss: 0.049\n",
      "Epoch 120/500\n",
      "404/404 [==============================] - 4s 11ms/step - loss: 0.0466 - accuracy: 0.9810\n",
      "Epoch 121/500\n",
      "404/404 [==============================] - 5s 11ms/step - loss: 0.0554 - accuracy: 0.9790\n",
      "Epoch 122/500\n",
      "404/404 [==============================] - 5s 11ms/step - loss: 0.0702 - accuracy: 0.9777\n",
      "Epoch 123/500\n",
      "404/404 [==============================] - 5s 11ms/step - loss: 0.0760 - accuracy: 0.9760\n",
      "Epoch 124/500\n",
      "404/404 [==============================] - 4s 11ms/step - loss: 0.0631 - accuracy: 0.9826\n",
      "Epoch 125/500\n",
      "404/404 [==============================] - 5s 11ms/step - loss: 0.0608 - accuracy: 0.9835\n",
      "Epoch 126/500\n",
      "404/404 [==============================] - 5s 11ms/step - loss: 0.0476 - accuracy: 0.9843\n",
      "Epoch 127/500\n",
      "404/404 [==============================] - 4s 11ms/step - loss: 0.0575 - accuracy: 0.9853\n",
      "Epoch 128/500\n",
      "404/404 [==============================] - 5s 11ms/step - loss: 0.0600 - accuracy: 0.9827\n",
      "Epoch 129/500\n",
      "404/404 [==============================] - 5s 11ms/step - loss: 0.0888 - accuracy: 0.9772\n",
      "Epoch 130/500\n",
      "404/404 [==============================] - 5s 11ms/step - loss: 0.0808 - accuracy: 0.9713\n",
      "Epoch 131/500\n",
      "404/404 [==============================] - 4s 11ms/step - loss: 0.0297 - accuracy: 0.9879\n",
      "Epoch 132/500\n",
      "404/404 [==============================] - 5s 11ms/step - loss: 0.0745 - accuracy: 0.9784\n",
      "Epoch 133/500\n",
      "404/404 [==============================] - 4s 11ms/step - loss: 0.0536 - accuracy: 0.9828\n",
      "Epoch 134/500\n",
      "404/404 [==============================] - 4s 11ms/step - loss: 0.0559 - accuracy: 0.9865\n",
      "Epoch 135/500\n",
      "404/404 [==============================] - 4s 11ms/step - loss: 0.0951 - accuracy: 0.9756\n",
      "Epoch 136/500\n",
      "404/404 [==============================] - 5s 11ms/step - loss: 0.0691 - accuracy: 0.9801\n",
      "Epoch 137/500\n",
      "404/404 [==============================] - 4s 11ms/step - loss: 0.0496 - accuracy: 0.9885\n",
      "Epoch 138/500\n",
      "404/404 [==============================] - 4s 11ms/step - loss: 0.0681 - accuracy: 0.9815\n",
      "Epoch 139/500\n",
      "404/404 [==============================] - 5s 11ms/step - loss: 0.0435 - accuracy: 0.9857\n",
      "Epoch 140/500\n",
      "404/404 [==============================] - 4s 11ms/step - loss: 0.0558 - accuracy: 0.9874\n",
      "Epoch 141/500\n",
      "404/404 [==============================] - 4s 11ms/step - loss: 0.0595 - accuracy: 0.9782\n",
      "Epoch 142/500\n",
      "404/404 [==============================] - 4s 11ms/step - loss: 0.0564 - accuracy: 0.9891\n",
      "Epoch 143/500\n",
      "404/404 [==============================] - 4s 11ms/step - loss: 0.0201 - accuracy: 0.9958\n",
      "Epoch 144/500\n",
      "404/404 [==============================] - 5s 11ms/step - loss: 0.0552 - accuracy: 0.9837\n",
      "Epoch 145/500\n",
      "404/404 [==============================] - 4s 11ms/step - loss: 0.0420 - accuracy: 0.9891\n",
      "Epoch 146/500\n",
      "404/404 [==============================] - 4s 11ms/step - loss: 0.0424 - accuracy: 0.9898\n",
      "Epoch 147/500\n",
      "404/404 [==============================] - 4s 11ms/step - loss: 0.0433 - accuracy: 0.9914\n",
      "Epoch 148/500\n",
      "404/404 [==============================] - 4s 11ms/step - loss: 0.0288 - accuracy: 0.9907\n",
      "Epoch 149/500\n",
      "404/404 [==============================] - 4s 11ms/step - loss: 0.0305 - accuracy: 0.9869\n",
      "Epoch 150/500\n",
      "404/404 [==============================] - 4s 11ms/step - loss: 0.0930 - accuracy: 0.9835\n",
      "Epoch 151/500\n",
      "404/404 [==============================] - 4s 11ms/step - loss: 0.0522 - accuracy: 0.9878\n",
      "Epoch 152/500\n",
      "404/404 [==============================] - 4s 11ms/step - loss: 0.0595 - accuracy: 0.9816\n",
      "Epoch 153/500\n",
      "404/404 [==============================] - 4s 11ms/step - loss: 0.0600 - accuracy: 0.9821\n",
      "Epoch 154/500\n",
      "404/404 [==============================] - 4s 11ms/step - loss: 0.0556 - accuracy: 0.9854\n",
      "Epoch 155/500\n",
      "404/404 [==============================] - 4s 11ms/step - loss: 0.0212 - accuracy: 0.9925\n",
      "Epoch 156/500\n"
     ]
    },
    {
     "name": "stdout",
     "output_type": "stream",
     "text": [
      "404/404 [==============================] - 4s 11ms/step - loss: 0.0556 - accuracy: 0.9862\n",
      "Epoch 157/500\n",
      "404/404 [==============================] - 4s 10ms/step - loss: 0.0435 - accuracy: 0.9867\n",
      "Epoch 158/500\n",
      "404/404 [==============================] - 4s 11ms/step - loss: 0.0371 - accuracy: 0.9859 0s - loss:\n",
      "Epoch 159/500\n",
      "404/404 [==============================] - 4s 11ms/step - loss: 0.0385 - accuracy: 0.9900\n",
      "Epoch 160/500\n",
      "404/404 [==============================] - 4s 11ms/step - loss: 0.0493 - accuracy: 0.9891\n",
      "Epoch 161/500\n",
      "404/404 [==============================] - 4s 11ms/step - loss: 0.0487 - accuracy: 0.9899\n",
      "Epoch 162/500\n",
      "404/404 [==============================] - 5s 11ms/step - loss: 0.0754 - accuracy: 0.9831\n",
      "Epoch 163/500\n",
      "404/404 [==============================] - 4s 11ms/step - loss: 0.0372 - accuracy: 0.9908\n",
      "Epoch 164/500\n",
      "404/404 [==============================] - 4s 11ms/step - loss: 0.0641 - accuracy: 0.9777\n",
      "Epoch 165/500\n",
      "404/404 [==============================] - 5s 11ms/step - loss: 0.0314 - accuracy: 0.9889\n",
      "Epoch 166/500\n",
      "404/404 [==============================] - 4s 11ms/step - loss: 0.0449 - accuracy: 0.9819\n",
      "Epoch 167/500\n",
      "404/404 [==============================] - 4s 11ms/step - loss: 0.0245 - accuracy: 0.9933\n",
      "Epoch 168/500\n",
      "404/404 [==============================] - 4s 11ms/step - loss: 0.0415 - accuracy: 0.9896 0s - loss: 0.0410 - accu\n",
      "Epoch 169/500\n",
      "404/404 [==============================] - 4s 11ms/step - loss: 0.0516 - accuracy: 0.9871\n",
      "Epoch 170/500\n",
      "404/404 [==============================] - 5s 11ms/step - loss: 0.0440 - accuracy: 0.9860\n",
      "Epoch 171/500\n",
      "404/404 [==============================] - 5s 11ms/step - loss: 0.0422 - accuracy: 0.9878\n",
      "Epoch 172/500\n",
      "404/404 [==============================] - 4s 11ms/step - loss: 0.0469 - accuracy: 0.9884\n",
      "Epoch 173/500\n",
      "404/404 [==============================] - 4s 11ms/step - loss: 0.0296 - accuracy: 0.9940\n",
      "Epoch 174/500\n",
      "404/404 [==============================] - 5s 11ms/step - loss: 0.0681 - accuracy: 0.9884\n",
      "Epoch 175/500\n",
      "404/404 [==============================] - 5s 11ms/step - loss: 0.0717 - accuracy: 0.9872\n",
      "Epoch 176/500\n",
      "404/404 [==============================] - 4s 11ms/step - loss: 0.0612 - accuracy: 0.9783\n",
      "Epoch 177/500\n",
      "404/404 [==============================] - 4s 11ms/step - loss: 0.1061 - accuracy: 0.9739\n",
      "Epoch 178/500\n",
      "404/404 [==============================] - 5s 11ms/step - loss: 0.0478 - accuracy: 0.9862\n",
      "Epoch 179/500\n",
      "404/404 [==============================] - 5s 12ms/step - loss: 0.0314 - accuracy: 0.9930\n",
      "Epoch 180/500\n",
      "404/404 [==============================] - 4s 11ms/step - loss: 0.0938 - accuracy: 0.9715\n",
      "Epoch 181/500\n",
      "404/404 [==============================] - 4s 11ms/step - loss: 0.0257 - accuracy: 0.9913\n",
      "Epoch 182/500\n",
      "404/404 [==============================] - 4s 11ms/step - loss: 0.0532 - accuracy: 0.9832\n",
      "Epoch 183/500\n",
      "404/404 [==============================] - 4s 11ms/step - loss: 0.0411 - accuracy: 0.9868\n",
      "Epoch 184/500\n",
      "404/404 [==============================] - 4s 11ms/step - loss: 0.0490 - accuracy: 0.9847\n",
      "Epoch 185/500\n",
      "404/404 [==============================] - 4s 11ms/step - loss: 0.0399 - accuracy: 0.9912\n",
      "Epoch 186/500\n",
      "404/404 [==============================] - 4s 11ms/step - loss: 0.0773 - accuracy: 0.9833\n",
      "Epoch 187/500\n",
      "404/404 [==============================] - 5s 11ms/step - loss: 0.0550 - accuracy: 0.9890\n",
      "Epoch 188/500\n",
      "404/404 [==============================] - 5s 11ms/step - loss: 0.0809 - accuracy: 0.9826\n",
      "Epoch 189/500\n",
      "404/404 [==============================] - 5s 11ms/step - loss: 0.0571 - accuracy: 0.9858\n",
      "Epoch 190/500\n",
      "404/404 [==============================] - 5s 11ms/step - loss: 0.0618 - accuracy: 0.9846\n",
      "Epoch 191/500\n",
      "404/404 [==============================] - 4s 11ms/step - loss: 0.0474 - accuracy: 0.9874\n",
      "Epoch 192/500\n",
      "404/404 [==============================] - 4s 11ms/step - loss: 0.0471 - accuracy: 0.9858\n",
      "Epoch 193/500\n",
      "404/404 [==============================] - 4s 11ms/step - loss: 0.0386 - accuracy: 0.9920\n",
      "Epoch 194/500\n",
      "404/404 [==============================] - 4s 11ms/step - loss: 0.0370 - accuracy: 0.9878\n",
      "Epoch 195/500\n",
      "404/404 [==============================] - 4s 10ms/step - loss: 0.0268 - accuracy: 0.9917\n",
      "Epoch 196/500\n",
      "404/404 [==============================] - 4s 11ms/step - loss: 0.0608 - accuracy: 0.9924\n",
      "Epoch 197/500\n",
      "404/404 [==============================] - 5s 11ms/step - loss: 0.0478 - accuracy: 0.9891\n",
      "Epoch 198/500\n",
      "404/404 [==============================] - 4s 11ms/step - loss: 0.0368 - accuracy: 0.9850\n",
      "Epoch 199/500\n",
      "404/404 [==============================] - 4s 11ms/step - loss: 0.0296 - accuracy: 0.9902\n",
      "Epoch 200/500\n",
      "404/404 [==============================] - 4s 11ms/step - loss: 0.0664 - accuracy: 0.9869\n",
      "Epoch 201/500\n",
      "404/404 [==============================] - 5s 11ms/step - loss: 0.0407 - accuracy: 0.9902\n",
      "Epoch 202/500\n",
      "404/404 [==============================] - 4s 11ms/step - loss: 0.0640 - accuracy: 0.9859\n",
      "Epoch 203/500\n",
      "404/404 [==============================] - 4s 10ms/step - loss: 0.0384 - accuracy: 0.9876\n",
      "Epoch 204/500\n",
      "404/404 [==============================] - 5s 11ms/step - loss: 0.0567 - accuracy: 0.9852\n",
      "Epoch 205/500\n",
      "404/404 [==============================] - 4s 11ms/step - loss: 0.0927 - accuracy: 0.9849\n",
      "Epoch 206/500\n",
      "404/404 [==============================] - 4s 11ms/step - loss: 0.0551 - accuracy: 0.9867 2s - l\n",
      "Epoch 207/500\n",
      "404/404 [==============================] - 4s 11ms/step - loss: 0.0501 - accuracy: 0.9866\n",
      "Epoch 208/500\n",
      "404/404 [==============================] - 5s 11ms/step - loss: 0.0387 - accuracy: 0.9921\n",
      "Epoch 209/500\n",
      "404/404 [==============================] - 5s 11ms/step - loss: 0.0692 - accuracy: 0.9860\n",
      "Epoch 210/500\n",
      "404/404 [==============================] - 5s 11ms/step - loss: 0.0202 - accuracy: 0.9913\n",
      "Epoch 211/500\n",
      "404/404 [==============================] - 5s 11ms/step - loss: 0.0588 - accuracy: 0.9779\n",
      "Epoch 212/500\n",
      "404/404 [==============================] - 5s 11ms/step - loss: 0.0241 - accuracy: 0.9914\n",
      "Epoch 213/500\n",
      "404/404 [==============================] - 5s 11ms/step - loss: 0.0230 - accuracy: 0.9882\n",
      "Epoch 214/500\n",
      "404/404 [==============================] - 5s 11ms/step - loss: 0.0294 - accuracy: 0.9912 0s - loss: 0.0294 - accuracy: 0.\n",
      "Epoch 215/500\n",
      "404/404 [==============================] - 5s 12ms/step - loss: 0.0653 - accuracy: 0.9834\n",
      "Epoch 216/500\n",
      "404/404 [==============================] - 5s 12ms/step - loss: 0.0421 - accuracy: 0.9846\n",
      "Epoch 217/500\n",
      "404/404 [==============================] - 5s 12ms/step - loss: 0.0329 - accuracy: 0.9931\n",
      "Epoch 218/500\n",
      "404/404 [==============================] - 5s 12ms/step - loss: 0.0331 - accuracy: 0.9879\n",
      "Epoch 219/500\n",
      "404/404 [==============================] - 5s 11ms/step - loss: 0.0288 - accuracy: 0.9911\n",
      "Epoch 220/500\n",
      "404/404 [==============================] - 5s 11ms/step - loss: 0.0705 - accuracy: 0.9913\n",
      "Epoch 221/500\n",
      "404/404 [==============================] - 5s 11ms/step - loss: 0.0387 - accuracy: 0.9877 0s - loss: 0.0386 - accuracy: \n",
      "Epoch 222/500\n",
      "404/404 [==============================] - 5s 12ms/step - loss: 0.0167 - accuracy: 0.9962\n",
      "Epoch 223/500\n",
      "404/404 [==============================] - 5s 12ms/step - loss: 0.0618 - accuracy: 0.9906 0s - los\n",
      "Epoch 224/500\n",
      "404/404 [==============================] - 5s 12ms/step - loss: 0.0384 - accuracy: 0.9918\n",
      "Epoch 225/500\n",
      "404/404 [==============================] - 5s 12ms/step - loss: 0.0335 - accuracy: 0.9883\n",
      "Epoch 226/500\n",
      "404/404 [==============================] - 5s 11ms/step - loss: 0.0465 - accuracy: 0.9880\n",
      "Epoch 227/500\n",
      "404/404 [==============================] - 4s 11ms/step - loss: 0.0397 - accuracy: 0.9926\n",
      "Epoch 228/500\n",
      "404/404 [==============================] - 5s 11ms/step - loss: 0.0359 - accuracy: 0.9910\n",
      "Epoch 229/500\n",
      "404/404 [==============================] - 5s 12ms/step - loss: 0.0492 - accuracy: 0.9851\n",
      "Epoch 230/500\n",
      "404/404 [==============================] - 5s 11ms/step - loss: 0.0305 - accuracy: 0.9920\n",
      "Epoch 231/500\n",
      "404/404 [==============================] - 5s 11ms/step - loss: 0.0320 - accuracy: 0.9888\n",
      "Epoch 232/500\n",
      "404/404 [==============================] - 5s 12ms/step - loss: 0.0122 - accuracy: 0.9941\n",
      "Epoch 233/500\n"
     ]
    },
    {
     "name": "stdout",
     "output_type": "stream",
     "text": [
      "404/404 [==============================] - 5s 12ms/step - loss: 0.0236 - accuracy: 0.9922 0s - loss: 0.0232 - accuracy\n",
      "Epoch 234/500\n",
      "404/404 [==============================] - 5s 11ms/step - loss: 0.0829 - accuracy: 0.9823\n",
      "Epoch 235/500\n",
      "404/404 [==============================] - 5s 11ms/step - loss: 0.0367 - accuracy: 0.9919\n",
      "Epoch 236/500\n",
      "404/404 [==============================] - 5s 11ms/step - loss: 0.0736 - accuracy: 0.9850\n",
      "Epoch 237/500\n",
      "404/404 [==============================] - 5s 11ms/step - loss: 0.0258 - accuracy: 0.9934\n",
      "Epoch 238/500\n",
      "404/404 [==============================] - 5s 11ms/step - loss: 0.0414 - accuracy: 0.9848\n",
      "Epoch 239/500\n",
      "404/404 [==============================] - 5s 11ms/step - loss: 0.0216 - accuracy: 0.9940\n",
      "Epoch 240/500\n",
      "404/404 [==============================] - 5s 12ms/step - loss: 0.0689 - accuracy: 0.9824\n",
      "Epoch 241/500\n",
      "404/404 [==============================] - 5s 12ms/step - loss: 0.0412 - accuracy: 0.9901 0s - loss: 0.0413 - accura\n",
      "Epoch 242/500\n",
      "404/404 [==============================] - 5s 12ms/step - loss: 0.0189 - accuracy: 0.9966\n",
      "Epoch 243/500\n",
      "404/404 [==============================] - 5s 12ms/step - loss: 0.0869 - accuracy: 0.9829\n",
      "Epoch 244/500\n",
      "404/404 [==============================] - 5s 12ms/step - loss: 0.0893 - accuracy: 0.9897\n",
      "Epoch 245/500\n",
      "404/404 [==============================] - 5s 12ms/step - loss: 0.0436 - accuracy: 0.9877\n",
      "Epoch 246/500\n",
      "404/404 [==============================] - 5s 12ms/step - loss: 0.0595 - accuracy: 0.9830\n",
      "Epoch 247/500\n",
      "404/404 [==============================] - 5s 11ms/step - loss: 0.0322 - accuracy: 0.9901\n",
      "Epoch 248/500\n",
      "404/404 [==============================] - 5s 11ms/step - loss: 0.0344 - accuracy: 0.9880\n",
      "Epoch 249/500\n",
      "404/404 [==============================] - 5s 11ms/step - loss: 0.0469 - accuracy: 0.9891\n",
      "Epoch 250/500\n",
      "404/404 [==============================] - 5s 12ms/step - loss: 0.0424 - accuracy: 0.9912\n",
      "Epoch 251/500\n",
      "404/404 [==============================] - 5s 12ms/step - loss: 0.0629 - accuracy: 0.9879\n",
      "Epoch 252/500\n",
      "404/404 [==============================] - 5s 12ms/step - loss: 0.0209 - accuracy: 0.9949\n",
      "Epoch 253/500\n",
      "404/404 [==============================] - 5s 12ms/step - loss: 0.0396 - accuracy: 0.9903\n",
      "Epoch 254/500\n",
      "404/404 [==============================] - 5s 12ms/step - loss: 0.0240 - accuracy: 0.9903\n",
      "Epoch 255/500\n",
      "404/404 [==============================] - 5s 11ms/step - loss: 0.0203 - accuracy: 0.9943\n",
      "Epoch 256/500\n",
      "404/404 [==============================] - 5s 11ms/step - loss: 0.0233 - accuracy: 0.9940\n",
      "Epoch 257/500\n",
      "404/404 [==============================] - 5s 11ms/step - loss: 0.0350 - accuracy: 0.9908\n",
      "Epoch 258/500\n",
      "404/404 [==============================] - 5s 12ms/step - loss: 0.0260 - accuracy: 0.9938\n",
      "Epoch 259/500\n",
      "404/404 [==============================] - 5s 12ms/step - loss: 0.0556 - accuracy: 0.9869\n",
      "Epoch 260/500\n",
      "404/404 [==============================] - 5s 12ms/step - loss: 0.0313 - accuracy: 0.9928 0s - loss: 0.0312 - accuracy: 0.99\n",
      "Epoch 261/500\n",
      "404/404 [==============================] - 5s 12ms/step - loss: 0.0214 - accuracy: 0.9920\n",
      "Epoch 262/500\n",
      "404/404 [==============================] - 5s 12ms/step - loss: 0.0236 - accuracy: 0.9917\n",
      "Epoch 263/500\n",
      "404/404 [==============================] - 5s 12ms/step - loss: 0.0198 - accuracy: 0.9924 0s - los\n",
      "Epoch 264/500\n",
      "404/404 [==============================] - 5s 12ms/step - loss: 0.0180 - accuracy: 0.9946\n",
      "Epoch 265/500\n",
      "404/404 [==============================] - 5s 12ms/step - loss: 0.0229 - accuracy: 0.9929\n",
      "Epoch 266/500\n",
      "404/404 [==============================] - 5s 12ms/step - loss: 0.0175 - accuracy: 0.9956 0s - loss:\n",
      "Epoch 267/500\n",
      "404/404 [==============================] - 5s 12ms/step - loss: 0.0324 - accuracy: 0.9931\n",
      "Epoch 268/500\n",
      "404/404 [==============================] - 5s 11ms/step - loss: 0.0103 - accuracy: 0.9941\n",
      "Epoch 269/500\n",
      "404/404 [==============================] - 5s 11ms/step - loss: 0.0269 - accuracy: 0.9962 0s - loss: 0.0255 - accu\n",
      "Epoch 270/500\n",
      "404/404 [==============================] - 5s 12ms/step - loss: 0.0292 - accuracy: 0.9897\n",
      "Epoch 271/500\n",
      "404/404 [==============================] - 5s 12ms/step - loss: 0.0188 - accuracy: 0.9942\n",
      "Epoch 272/500\n",
      "404/404 [==============================] - 5s 12ms/step - loss: 0.1053 - accuracy: 0.9858\n",
      "Epoch 273/500\n",
      "404/404 [==============================] - 5s 12ms/step - loss: 0.0236 - accuracy: 0.9897\n",
      "Epoch 274/500\n",
      "404/404 [==============================] - 5s 12ms/step - loss: 0.0598 - accuracy: 0.9861\n",
      "Epoch 275/500\n",
      "404/404 [==============================] - 5s 12ms/step - loss: 0.0350 - accuracy: 0.9919\n",
      "Epoch 276/500\n",
      "404/404 [==============================] - 5s 12ms/step - loss: 0.0148 - accuracy: 0.9969\n",
      "Epoch 277/500\n",
      "404/404 [==============================] - 5s 12ms/step - loss: 0.0220 - accuracy: 0.9907\n",
      "Epoch 278/500\n",
      "404/404 [==============================] - 5s 12ms/step - loss: 0.0145 - accuracy: 0.9956\n",
      "Epoch 279/500\n",
      "404/404 [==============================] - 5s 12ms/step - loss: 0.0415 - accuracy: 0.9869 0s - loss: 0.0416 - accuracy: 0.98\n",
      "Epoch 280/500\n",
      "404/404 [==============================] - 5s 12ms/step - loss: 0.0512 - accuracy: 0.9910\n",
      "Epoch 281/500\n",
      "404/404 [==============================] - 5s 12ms/step - loss: 0.0332 - accuracy: 0.9905\n",
      "Epoch 282/500\n",
      "404/404 [==============================] - 5s 12ms/step - loss: 0.0346 - accuracy: 0.9904\n",
      "Epoch 283/500\n",
      "404/404 [==============================] - 5s 11ms/step - loss: 0.0441 - accuracy: 0.9868 0s - loss: 0.0442 - ac\n",
      "Epoch 284/500\n",
      "404/404 [==============================] - 5s 12ms/step - loss: 0.0471 - accuracy: 0.9904\n",
      "Epoch 285/500\n",
      "404/404 [==============================] - 5s 12ms/step - loss: 0.0373 - accuracy: 0.9907\n",
      "Epoch 286/500\n",
      "404/404 [==============================] - 5s 12ms/step - loss: 0.0289 - accuracy: 0.9945\n",
      "Epoch 287/500\n",
      "404/404 [==============================] - 5s 13ms/step - loss: 0.0183 - accuracy: 0.9940\n",
      "Epoch 288/500\n",
      "404/404 [==============================] - 5s 12ms/step - loss: 0.0266 - accuracy: 0.9944\n",
      "Epoch 289/500\n",
      "404/404 [==============================] - 5s 12ms/step - loss: 0.0378 - accuracy: 0.9933\n",
      "Epoch 290/500\n",
      "404/404 [==============================] - 5s 12ms/step - loss: 0.0171 - accuracy: 0.9956\n",
      "Epoch 291/500\n",
      "404/404 [==============================] - 5s 12ms/step - loss: 0.0456 - accuracy: 0.9877\n",
      "Epoch 292/500\n",
      "404/404 [==============================] - 5s 12ms/step - loss: 0.0287 - accuracy: 0.9950\n",
      "Epoch 293/500\n",
      "404/404 [==============================] - 5s 12ms/step - loss: 0.0854 - accuracy: 0.9777\n",
      "Epoch 294/500\n",
      "404/404 [==============================] - 5s 12ms/step - loss: 0.0265 - accuracy: 0.9916\n",
      "Epoch 295/500\n",
      "404/404 [==============================] - 5s 12ms/step - loss: 0.0336 - accuracy: 0.9948\n",
      "Epoch 296/500\n",
      "404/404 [==============================] - 5s 12ms/step - loss: 0.0164 - accuracy: 0.9969\n",
      "Epoch 297/500\n",
      "404/404 [==============================] - 5s 12ms/step - loss: 0.0379 - accuracy: 0.9931\n",
      "Epoch 298/500\n",
      "404/404 [==============================] - 5s 12ms/step - loss: 0.0273 - accuracy: 0.9921 0s - loss: 0.0271 \n",
      "Epoch 299/500\n",
      "404/404 [==============================] - 6s 14ms/step - loss: 0.0159 - accuracy: 0.9929\n",
      "Epoch 300/500\n",
      "404/404 [==============================] - 6s 14ms/step - loss: 0.0287 - accuracy: 0.9929 2s - loss: 0.029\n",
      "Epoch 301/500\n",
      "404/404 [==============================] - 5s 13ms/step - loss: 0.0208 - accuracy: 0.9928\n",
      "Epoch 302/500\n",
      "404/404 [==============================] - 5s 13ms/step - loss: 0.0178 - accuracy: 0.9934\n",
      "Epoch 303/500\n",
      "404/404 [==============================] - 5s 12ms/step - loss: 0.0416 - accuracy: 0.9926\n",
      "Epoch 304/500\n",
      "404/404 [==============================] - 5s 13ms/step - loss: 0.0291 - accuracy: 0.9871\n",
      "Epoch 305/500\n",
      "404/404 [==============================] - 5s 12ms/step - loss: 0.0591 - accuracy: 0.9834\n",
      "Epoch 306/500\n",
      "404/404 [==============================] - 5s 12ms/step - loss: 0.0176 - accuracy: 0.9938\n",
      "Epoch 307/500\n",
      "404/404 [==============================] - 5s 12ms/step - loss: 0.0317 - accuracy: 0.9923\n",
      "Epoch 308/500\n",
      "404/404 [==============================] - 5s 12ms/step - loss: 0.0179 - accuracy: 0.9956\n",
      "Epoch 309/500\n"
     ]
    },
    {
     "name": "stdout",
     "output_type": "stream",
     "text": [
      "404/404 [==============================] - 5s 12ms/step - loss: 0.0433 - accuracy: 0.9871\n",
      "Epoch 310/500\n",
      "404/404 [==============================] - 5s 12ms/step - loss: 0.0485 - accuracy: 0.9913\n",
      "Epoch 311/500\n",
      "404/404 [==============================] - 5s 13ms/step - loss: 0.0322 - accuracy: 0.9910\n",
      "Epoch 312/500\n",
      "404/404 [==============================] - 5s 12ms/step - loss: 0.0433 - accuracy: 0.9915\n",
      "Epoch 313/500\n",
      "404/404 [==============================] - 5s 12ms/step - loss: 0.0470 - accuracy: 0.9888\n",
      "Epoch 314/500\n",
      "404/404 [==============================] - 5s 12ms/step - loss: 0.0399 - accuracy: 0.9870\n",
      "Epoch 315/500\n",
      "404/404 [==============================] - 5s 12ms/step - loss: 0.0280 - accuracy: 0.9943\n",
      "Epoch 316/500\n",
      "404/404 [==============================] - 5s 12ms/step - loss: 0.0484 - accuracy: 0.9918\n",
      "Epoch 317/500\n",
      "404/404 [==============================] - 5s 12ms/step - loss: 0.0140 - accuracy: 0.9960\n",
      "Epoch 318/500\n",
      "404/404 [==============================] - 5s 12ms/step - loss: 0.0353 - accuracy: 0.9898\n",
      "Epoch 319/500\n",
      "404/404 [==============================] - 5s 12ms/step - loss: 0.0403 - accuracy: 0.9919\n",
      "Epoch 320/500\n",
      "404/404 [==============================] - 5s 13ms/step - loss: 0.0478 - accuracy: 0.9873\n",
      "Epoch 321/500\n",
      "404/404 [==============================] - 5s 12ms/step - loss: 0.0236 - accuracy: 0.9951\n",
      "Epoch 322/500\n",
      "404/404 [==============================] - 5s 12ms/step - loss: 0.0194 - accuracy: 0.9930\n",
      "Epoch 323/500\n",
      "404/404 [==============================] - 5s 12ms/step - loss: 0.0586 - accuracy: 0.9890\n",
      "Epoch 324/500\n",
      "404/404 [==============================] - 5s 12ms/step - loss: 0.0213 - accuracy: 0.9928\n",
      "Epoch 325/500\n",
      "404/404 [==============================] - 5s 12ms/step - loss: 0.0694 - accuracy: 0.9867\n",
      "Epoch 326/500\n",
      "404/404 [==============================] - 5s 12ms/step - loss: 0.0470 - accuracy: 0.9896\n",
      "Epoch 327/500\n",
      "404/404 [==============================] - 5s 12ms/step - loss: 0.0189 - accuracy: 0.9954\n",
      "Epoch 328/500\n",
      "404/404 [==============================] - 5s 12ms/step - loss: 0.0301 - accuracy: 0.9914\n",
      "Epoch 329/500\n",
      "404/404 [==============================] - 5s 12ms/step - loss: 0.0414 - accuracy: 0.9902\n",
      "Epoch 330/500\n",
      "404/404 [==============================] - 5s 12ms/step - loss: 0.0192 - accuracy: 0.9957 1s\n",
      "Epoch 331/500\n",
      "404/404 [==============================] - 5s 12ms/step - loss: 0.0115 - accuracy: 0.9964\n",
      "Epoch 332/500\n",
      "404/404 [==============================] - 5s 12ms/step - loss: 0.0359 - accuracy: 0.9935\n",
      "Epoch 333/500\n",
      "404/404 [==============================] - 5s 12ms/step - loss: 0.0153 - accuracy: 0.9957 0s -\n",
      "Epoch 334/500\n",
      "404/404 [==============================] - 5s 12ms/step - loss: 0.0431 - accuracy: 0.9888\n",
      "Epoch 335/500\n",
      "404/404 [==============================] - 5s 12ms/step - loss: 0.0120 - accuracy: 0.9969\n",
      "Epoch 336/500\n",
      "404/404 [==============================] - 5s 12ms/step - loss: 0.0164 - accuracy: 0.9927\n",
      "Epoch 337/500\n",
      "404/404 [==============================] - 5s 12ms/step - loss: 0.0189 - accuracy: 0.9940\n",
      "Epoch 338/500\n",
      "404/404 [==============================] - 5s 12ms/step - loss: 0.0190 - accuracy: 0.9956\n",
      "Epoch 339/500\n",
      "404/404 [==============================] - 5s 12ms/step - loss: 0.0261 - accuracy: 0.9924\n",
      "Epoch 340/500\n",
      "404/404 [==============================] - 5s 12ms/step - loss: 0.0448 - accuracy: 0.9845 0s - loss: 0.0448 - accuracy: 0.\n",
      "Epoch 341/500\n",
      "404/404 [==============================] - 5s 12ms/step - loss: 0.0128 - accuracy: 0.9946\n",
      "Epoch 342/500\n",
      "404/404 [==============================] - 5s 12ms/step - loss: 0.0072 - accuracy: 0.9978\n",
      "Epoch 343/500\n",
      "404/404 [==============================] - 5s 12ms/step - loss: 0.0276 - accuracy: 0.9937\n",
      "Epoch 344/500\n",
      "404/404 [==============================] - 5s 12ms/step - loss: 0.0203 - accuracy: 0.9923\n",
      "Epoch 345/500\n",
      "404/404 [==============================] - 5s 12ms/step - loss: 0.0239 - accuracy: 0.9954\n",
      "Epoch 346/500\n",
      "404/404 [==============================] - 5s 12ms/step - loss: 0.0285 - accuracy: 0.9942\n",
      "Epoch 347/500\n",
      "404/404 [==============================] - 5s 12ms/step - loss: 0.0236 - accuracy: 0.9914\n",
      "Epoch 348/500\n",
      "404/404 [==============================] - 5s 12ms/step - loss: 0.0195 - accuracy: 0.9965\n",
      "Epoch 349/500\n",
      "404/404 [==============================] - 5s 12ms/step - loss: 0.0112 - accuracy: 0.9964\n",
      "Epoch 350/500\n",
      "404/404 [==============================] - 5s 12ms/step - loss: 0.0349 - accuracy: 0.9925\n",
      "Epoch 351/500\n",
      "404/404 [==============================] - 5s 13ms/step - loss: 0.0125 - accuracy: 0.9978\n",
      "Epoch 352/500\n",
      "404/404 [==============================] - 5s 12ms/step - loss: 0.0059 - accuracy: 0.9983\n",
      "Epoch 353/500\n",
      "404/404 [==============================] - 5s 12ms/step - loss: 0.0741 - accuracy: 0.9848\n",
      "Epoch 354/500\n",
      "404/404 [==============================] - 5s 12ms/step - loss: 0.0257 - accuracy: 0.9931\n",
      "Epoch 355/500\n",
      "404/404 [==============================] - 5s 12ms/step - loss: 0.0325 - accuracy: 0.9908\n",
      "Epoch 356/500\n",
      "404/404 [==============================] - 5s 12ms/step - loss: 0.0432 - accuracy: 0.9939\n",
      "Epoch 357/500\n",
      "404/404 [==============================] - 5s 12ms/step - loss: 0.0368 - accuracy: 0.9905\n",
      "Epoch 358/500\n",
      "404/404 [==============================] - 5s 12ms/step - loss: 0.0284 - accuracy: 0.9907\n",
      "Epoch 359/500\n",
      "404/404 [==============================] - 5s 12ms/step - loss: 0.0168 - accuracy: 0.9944\n",
      "Epoch 360/500\n",
      "404/404 [==============================] - 5s 12ms/step - loss: 0.0473 - accuracy: 0.9907\n",
      "Epoch 361/500\n",
      "404/404 [==============================] - 5s 12ms/step - loss: 0.0160 - accuracy: 0.9941\n",
      "Epoch 362/500\n",
      "404/404 [==============================] - 5s 12ms/step - loss: 0.0165 - accuracy: 0.9916 0s - loss: 0.016\n",
      "Epoch 363/500\n",
      "404/404 [==============================] - 5s 12ms/step - loss: 0.0210 - accuracy: 0.9951\n",
      "Epoch 364/500\n",
      "404/404 [==============================] - 5s 12ms/step - loss: 0.0285 - accuracy: 0.9912\n",
      "Epoch 365/500\n",
      "404/404 [==============================] - 5s 12ms/step - loss: 0.0664 - accuracy: 0.9892\n",
      "Epoch 366/500\n",
      "404/404 [==============================] - 5s 12ms/step - loss: 0.0673 - accuracy: 0.9837\n",
      "Epoch 367/500\n",
      "404/404 [==============================] - 5s 12ms/step - loss: 0.0570 - accuracy: 0.9881 0s - l\n",
      "Epoch 368/500\n",
      "404/404 [==============================] - 5s 12ms/step - loss: 0.0208 - accuracy: 0.9941\n",
      "Epoch 369/500\n",
      "404/404 [==============================] - 5s 12ms/step - loss: 0.0638 - accuracy: 0.9888\n",
      "Epoch 370/500\n",
      "404/404 [==============================] - 5s 12ms/step - loss: 0.0470 - accuracy: 0.9900\n",
      "Epoch 371/500\n",
      "404/404 [==============================] - 5s 12ms/step - loss: 0.0259 - accuracy: 0.9936\n",
      "Epoch 372/500\n",
      "404/404 [==============================] - 5s 13ms/step - loss: 0.0306 - accuracy: 0.9919\n",
      "Epoch 373/500\n",
      "404/404 [==============================] - 5s 12ms/step - loss: 0.0312 - accuracy: 0.9901\n",
      "Epoch 374/500\n",
      "404/404 [==============================] - 5s 12ms/step - loss: 0.0151 - accuracy: 0.9967\n",
      "Epoch 375/500\n",
      "404/404 [==============================] - 5s 12ms/step - loss: 0.0536 - accuracy: 0.9894\n",
      "Epoch 376/500\n",
      "404/404 [==============================] - 5s 12ms/step - loss: 0.0199 - accuracy: 0.9944\n",
      "Epoch 377/500\n",
      "404/404 [==============================] - 5s 12ms/step - loss: 0.0282 - accuracy: 0.9949\n",
      "Epoch 378/500\n",
      "404/404 [==============================] - 5s 12ms/step - loss: 0.0165 - accuracy: 0.9951\n",
      "Epoch 379/500\n",
      "404/404 [==============================] - 5s 12ms/step - loss: 0.0227 - accuracy: 0.9928 0s - loss:\n",
      "Epoch 380/500\n",
      "404/404 [==============================] - 5s 12ms/step - loss: 0.0343 - accuracy: 0.9940\n",
      "Epoch 381/500\n",
      "404/404 [==============================] - 5s 12ms/step - loss: 0.0109 - accuracy: 0.9966\n",
      "Epoch 382/500\n",
      "404/404 [==============================] - 5s 13ms/step - loss: 0.0439 - accuracy: 0.9943\n",
      "Epoch 383/500\n",
      "404/404 [==============================] - 5s 12ms/step - loss: 0.0328 - accuracy: 0.9949\n",
      "Epoch 384/500\n",
      "404/404 [==============================] - 5s 12ms/step - loss: 0.0220 - accuracy: 0.9949\n",
      "Epoch 385/500\n",
      "404/404 [==============================] - 5s 12ms/step - loss: 0.0143 - accuracy: 0.9926\n",
      "Epoch 386/500\n",
      "404/404 [==============================] - 5s 12ms/step - loss: 0.0195 - accuracy: 0.9940\n",
      "Epoch 387/500\n"
     ]
    },
    {
     "name": "stdout",
     "output_type": "stream",
     "text": [
      "404/404 [==============================] - 5s 12ms/step - loss: 0.0796 - accuracy: 0.9912\n",
      "Epoch 388/500\n",
      "404/404 [==============================] - 5s 12ms/step - loss: 0.0219 - accuracy: 0.9939\n",
      "Epoch 389/500\n",
      "404/404 [==============================] - 5s 12ms/step - loss: 0.0157 - accuracy: 0.9954\n",
      "Epoch 390/500\n",
      "404/404 [==============================] - 5s 12ms/step - loss: 0.0214 - accuracy: 0.9948\n",
      "Epoch 391/500\n",
      "404/404 [==============================] - 5s 13ms/step - loss: 0.0246 - accuracy: 0.9953\n",
      "Epoch 392/500\n",
      "404/404 [==============================] - 5s 12ms/step - loss: 0.0451 - accuracy: 0.9885\n",
      "Epoch 393/500\n",
      "404/404 [==============================] - 5s 12ms/step - loss: 0.0440 - accuracy: 0.9916\n",
      "Epoch 394/500\n",
      "404/404 [==============================] - 5s 12ms/step - loss: 0.0195 - accuracy: 0.9964\n",
      "Epoch 395/500\n",
      "404/404 [==============================] - 5s 13ms/step - loss: 0.0565 - accuracy: 0.9896\n",
      "Epoch 396/500\n",
      "404/404 [==============================] - 5s 12ms/step - loss: 0.0691 - accuracy: 0.9922\n",
      "Epoch 397/500\n",
      "404/404 [==============================] - 5s 13ms/step - loss: 0.0452 - accuracy: 0.9874\n",
      "Epoch 398/500\n",
      "404/404 [==============================] - 5s 12ms/step - loss: 0.0918 - accuracy: 0.9907 0s - loss: 0.0943  - ETA: 0s - loss: 0.0926 - accura\n",
      "Epoch 399/500\n",
      "404/404 [==============================] - 5s 12ms/step - loss: 0.0321 - accuracy: 0.9929\n",
      "Epoch 400/500\n",
      "404/404 [==============================] - 5s 13ms/step - loss: 0.0321 - accuracy: 0.9903\n",
      "Epoch 401/500\n",
      "404/404 [==============================] - 5s 13ms/step - loss: 0.0163 - accuracy: 0.9969\n",
      "Epoch 402/500\n",
      "404/404 [==============================] - 5s 12ms/step - loss: 0.0672 - accuracy: 0.9893\n",
      "Epoch 403/500\n",
      "404/404 [==============================] - 5s 12ms/step - loss: 0.0438 - accuracy: 0.9900\n",
      "Epoch 404/500\n",
      "404/404 [==============================] - 5s 12ms/step - loss: 0.0108 - accuracy: 0.9955\n",
      "Epoch 405/500\n",
      "404/404 [==============================] - 5s 12ms/step - loss: 0.0259 - accuracy: 0.9933\n",
      "Epoch 406/500\n",
      "404/404 [==============================] - 5s 12ms/step - loss: 0.0316 - accuracy: 0.9924\n",
      "Epoch 407/500\n",
      "404/404 [==============================] - 5s 12ms/step - loss: 0.0482 - accuracy: 0.9898\n",
      "Epoch 408/500\n",
      "404/404 [==============================] - 5s 13ms/step - loss: 0.0495 - accuracy: 0.9926\n",
      "Epoch 409/500\n",
      "404/404 [==============================] - 5s 12ms/step - loss: 0.0261 - accuracy: 0.9953\n",
      "Epoch 410/500\n",
      "404/404 [==============================] - 5s 13ms/step - loss: 0.0177 - accuracy: 0.9951\n",
      "Epoch 411/500\n",
      "404/404 [==============================] - 5s 12ms/step - loss: 0.0325 - accuracy: 0.9944\n",
      "Epoch 412/500\n",
      "404/404 [==============================] - 5s 12ms/step - loss: 0.0144 - accuracy: 0.9948\n",
      "Epoch 413/500\n",
      "404/404 [==============================] - 5s 12ms/step - loss: 0.0475 - accuracy: 0.9900\n",
      "Epoch 414/500\n",
      "404/404 [==============================] - 5s 13ms/step - loss: 0.0638 - accuracy: 0.9908\n",
      "Epoch 415/500\n",
      "404/404 [==============================] - 5s 13ms/step - loss: 0.0314 - accuracy: 0.9904\n",
      "Epoch 416/500\n",
      "404/404 [==============================] - 5s 13ms/step - loss: 0.0332 - accuracy: 0.9912\n",
      "Epoch 417/500\n",
      "404/404 [==============================] - 5s 12ms/step - loss: 0.0124 - accuracy: 0.9963\n",
      "Epoch 418/500\n",
      "404/404 [==============================] - 5s 13ms/step - loss: 0.0218 - accuracy: 0.9940\n",
      "Epoch 419/500\n",
      "404/404 [==============================] - 5s 13ms/step - loss: 0.0189 - accuracy: 0.9963\n",
      "Epoch 420/500\n",
      "404/404 [==============================] - 5s 13ms/step - loss: 0.0153 - accuracy: 0.9944\n",
      "Epoch 421/500\n",
      "404/404 [==============================] - 5s 13ms/step - loss: 0.0159 - accuracy: 0.9946 0s - los\n",
      "Epoch 422/500\n",
      "404/404 [==============================] - 5s 12ms/step - loss: 0.0237 - accuracy: 0.9936\n",
      "Epoch 423/500\n",
      "404/404 [==============================] - 5s 12ms/step - loss: 0.0369 - accuracy: 0.9958\n",
      "Epoch 424/500\n",
      "404/404 [==============================] - 5s 12ms/step - loss: 0.0312 - accuracy: 0.9928\n",
      "Epoch 425/500\n",
      "404/404 [==============================] - 5s 12ms/step - loss: 0.0210 - accuracy: 0.9959\n",
      "Epoch 426/500\n",
      "404/404 [==============================] - 5s 12ms/step - loss: 0.0032 - accuracy: 0.9989\n",
      "Epoch 427/500\n",
      "404/404 [==============================] - 5s 12ms/step - loss: 0.0133 - accuracy: 0.9937\n",
      "Epoch 428/500\n",
      "404/404 [==============================] - 5s 12ms/step - loss: 0.0157 - accuracy: 0.9949\n",
      "Epoch 429/500\n",
      "404/404 [==============================] - 5s 12ms/step - loss: 0.0149 - accuracy: 0.9969\n",
      "Epoch 430/500\n",
      "404/404 [==============================] - 5s 13ms/step - loss: 0.0365 - accuracy: 0.9897\n",
      "Epoch 431/500\n",
      "404/404 [==============================] - 5s 12ms/step - loss: 0.0139 - accuracy: 0.9960\n",
      "Epoch 432/500\n",
      "404/404 [==============================] - 5s 12ms/step - loss: 0.0304 - accuracy: 0.9934\n",
      "Epoch 433/500\n",
      "404/404 [==============================] - 5s 13ms/step - loss: 0.0130 - accuracy: 0.9960\n",
      "Epoch 434/500\n",
      "404/404 [==============================] - 5s 12ms/step - loss: 0.0402 - accuracy: 0.9901\n",
      "Epoch 435/500\n",
      "404/404 [==============================] - 5s 12ms/step - loss: 0.0138 - accuracy: 0.9943\n",
      "Epoch 436/500\n",
      "404/404 [==============================] - 5s 12ms/step - loss: 0.0139 - accuracy: 0.9967\n",
      "Epoch 437/500\n",
      "404/404 [==============================] - 5s 12ms/step - loss: 0.0250 - accuracy: 0.9928 0s - loss: 0.0249 - accuracy: 0. - ETA: 0s - loss: 0.0250 - ac\n",
      "Epoch 438/500\n",
      "404/404 [==============================] - 5s 13ms/step - loss: 0.0308 - accuracy: 0.9931\n",
      "Epoch 439/500\n",
      "404/404 [==============================] - 5s 13ms/step - loss: 0.0257 - accuracy: 0.9951\n",
      "Epoch 440/500\n",
      "404/404 [==============================] - 5s 13ms/step - loss: 0.0077 - accuracy: 0.9969\n",
      "Epoch 441/500\n",
      "404/404 [==============================] - 5s 13ms/step - loss: 0.0175 - accuracy: 0.9951\n",
      "Epoch 442/500\n",
      "404/404 [==============================] - 5s 13ms/step - loss: 0.0167 - accuracy: 0.9924\n",
      "Epoch 443/500\n",
      "404/404 [==============================] - 5s 12ms/step - loss: 0.0272 - accuracy: 0.9966\n",
      "Epoch 444/500\n",
      "404/404 [==============================] - 5s 12ms/step - loss: 0.0211 - accuracy: 0.9926\n",
      "Epoch 445/500\n",
      "404/404 [==============================] - 5s 12ms/step - loss: 0.0291 - accuracy: 0.9921\n",
      "Epoch 446/500\n",
      "404/404 [==============================] - 5s 12ms/step - loss: 0.0289 - accuracy: 0.9952\n",
      "Epoch 447/500\n",
      "404/404 [==============================] - 5s 12ms/step - loss: 0.0221 - accuracy: 0.9933\n",
      "Epoch 448/500\n",
      "404/404 [==============================] - 5s 12ms/step - loss: 0.0578 - accuracy: 0.9870\n",
      "Epoch 449/500\n",
      "404/404 [==============================] - 5s 12ms/step - loss: 0.0140 - accuracy: 0.9947\n",
      "Epoch 450/500\n",
      "404/404 [==============================] - 5s 12ms/step - loss: 0.0222 - accuracy: 0.9968\n",
      "Epoch 451/500\n",
      "404/404 [==============================] - 5s 12ms/step - loss: 0.0122 - accuracy: 0.9982\n",
      "Epoch 452/500\n",
      "404/404 [==============================] - 5s 12ms/step - loss: 0.0492 - accuracy: 0.9879\n",
      "Epoch 453/500\n",
      "404/404 [==============================] - 5s 12ms/step - loss: 0.0243 - accuracy: 0.9960\n",
      "Epoch 454/500\n",
      "404/404 [==============================] - 5s 12ms/step - loss: 0.0284 - accuracy: 0.9950\n",
      "Epoch 455/500\n",
      "404/404 [==============================] - 5s 12ms/step - loss: 0.0323 - accuracy: 0.9959\n",
      "Epoch 456/500\n",
      "404/404 [==============================] - 5s 12ms/step - loss: 0.0208 - accuracy: 0.9952\n",
      "Epoch 457/500\n",
      "404/404 [==============================] - 5s 12ms/step - loss: 0.0186 - accuracy: 0.9944\n",
      "Epoch 458/500\n",
      "404/404 [==============================] - 5s 13ms/step - loss: 0.0233 - accuracy: 0.9907\n",
      "Epoch 459/500\n",
      "404/404 [==============================] - 5s 12ms/step - loss: 0.0467 - accuracy: 0.9906\n",
      "Epoch 460/500\n",
      "404/404 [==============================] - 5s 12ms/step - loss: 0.0320 - accuracy: 0.9900\n",
      "Epoch 461/500\n",
      "404/404 [==============================] - 5s 12ms/step - loss: 0.0118 - accuracy: 0.9970\n",
      "Epoch 462/500\n",
      "404/404 [==============================] - 5s 12ms/step - loss: 0.0132 - accuracy: 0.9943\n",
      "Epoch 463/500\n",
      "404/404 [==============================] - 5s 12ms/step - loss: 0.0297 - accuracy: 0.9928 \n",
      "Epoch 464/500\n"
     ]
    },
    {
     "name": "stdout",
     "output_type": "stream",
     "text": [
      "404/404 [==============================] - 5s 13ms/step - loss: 0.0115 - accuracy: 0.9959\n",
      "Epoch 465/500\n",
      "404/404 [==============================] - 5s 12ms/step - loss: 0.0510 - accuracy: 0.9939\n",
      "Epoch 466/500\n",
      "404/404 [==============================] - 5s 12ms/step - loss: 0.0274 - accuracy: 0.9968\n",
      "Epoch 467/500\n",
      "404/404 [==============================] - 5s 12ms/step - loss: 0.0085 - accuracy: 0.9958\n",
      "Epoch 468/500\n",
      "404/404 [==============================] - 5s 13ms/step - loss: 0.0397 - accuracy: 0.9892 1s - loss: 0.041 - ETA: 0s - loss: 0.0406 - \n",
      "Epoch 469/500\n",
      "404/404 [==============================] - 5s 13ms/step - loss: 0.0354 - accuracy: 0.9901\n",
      "Epoch 470/500\n",
      "404/404 [==============================] - 5s 13ms/step - loss: 0.0148 - accuracy: 0.9952\n",
      "Epoch 471/500\n",
      "404/404 [==============================] - 5s 12ms/step - loss: 0.0240 - accuracy: 0.9954 \n",
      "Epoch 472/500\n",
      "404/404 [==============================] - 5s 13ms/step - loss: 0.0705 - accuracy: 0.9912 0s - loss:\n",
      "Epoch 473/500\n",
      "404/404 [==============================] - 5s 12ms/step - loss: 0.0068 - accuracy: 0.9964\n",
      "Epoch 474/500\n",
      "404/404 [==============================] - 5s 12ms/step - loss: 0.0192 - accuracy: 0.9940\n",
      "Epoch 475/500\n",
      "404/404 [==============================] - 5s 13ms/step - loss: 0.0338 - accuracy: 0.9903\n",
      "Epoch 476/500\n",
      "404/404 [==============================] - 6s 14ms/step - loss: 0.0133 - accuracy: 0.9954\n",
      "Epoch 477/500\n",
      "404/404 [==============================] - 6s 14ms/step - loss: 0.0129 - accuracy: 0.9952 0s - loss: 0.0\n",
      "Epoch 478/500\n",
      "404/404 [==============================] - 5s 13ms/step - loss: 0.0251 - accuracy: 0.9940\n",
      "Epoch 479/500\n",
      "404/404 [==============================] - 6s 15ms/step - loss: 0.0488 - accuracy: 0.9901\n",
      "Epoch 480/500\n",
      "404/404 [==============================] - 6s 15ms/step - loss: 0.0427 - accuracy: 0.9945\n",
      "Epoch 481/500\n",
      "404/404 [==============================] - 5s 13ms/step - loss: 0.0110 - accuracy: 0.9982\n",
      "Epoch 482/500\n",
      "404/404 [==============================] - 5s 13ms/step - loss: 0.0154 - accuracy: 0.9970\n",
      "Epoch 483/500\n",
      "404/404 [==============================] - 5s 12ms/step - loss: 0.0258 - accuracy: 0.9929\n",
      "Epoch 484/500\n",
      "404/404 [==============================] - 5s 11ms/step - loss: 0.0449 - accuracy: 0.9921\n",
      "Epoch 485/500\n",
      "404/404 [==============================] - 4s 11ms/step - loss: 0.0140 - accuracy: 0.9946\n",
      "Epoch 486/500\n",
      "404/404 [==============================] - 5s 12ms/step - loss: 0.0174 - accuracy: 0.9927\n",
      "Epoch 487/500\n",
      "404/404 [==============================] - 4s 11ms/step - loss: 0.0091 - accuracy: 0.9953\n",
      "Epoch 488/500\n",
      "404/404 [==============================] - 5s 11ms/step - loss: 0.0199 - accuracy: 0.9907\n",
      "Epoch 489/500\n",
      "404/404 [==============================] - 5s 11ms/step - loss: 0.0259 - accuracy: 0.9925\n",
      "Epoch 490/500\n",
      "404/404 [==============================] - 5s 11ms/step - loss: 0.0172 - accuracy: 0.9917\n",
      "Epoch 491/500\n",
      "404/404 [==============================] - 5s 11ms/step - loss: 0.0279 - accuracy: 0.9962 0s -\n",
      "Epoch 492/500\n",
      "404/404 [==============================] - 4s 11ms/step - loss: 0.0318 - accuracy: 0.9889\n",
      "Epoch 493/500\n",
      "404/404 [==============================] - 4s 11ms/step - loss: 0.0196 - accuracy: 0.9961\n",
      "Epoch 494/500\n",
      "404/404 [==============================] - 4s 11ms/step - loss: 0.0156 - accuracy: 0.9952\n",
      "Epoch 495/500\n",
      "404/404 [==============================] - 5s 11ms/step - loss: 0.0206 - accuracy: 0.9942\n",
      "Epoch 496/500\n",
      "404/404 [==============================] - 5s 11ms/step - loss: 0.0402 - accuracy: 0.9924\n",
      "Epoch 497/500\n",
      "404/404 [==============================] - 4s 11ms/step - loss: 0.0345 - accuracy: 0.9940\n",
      "Epoch 498/500\n",
      "404/404 [==============================] - 4s 9ms/step - loss: 0.0106 - accuracy: 0.9966\n",
      "Epoch 499/500\n",
      "404/404 [==============================] - 4s 9ms/step - loss: 0.0293 - accuracy: 0.9923\n",
      "Epoch 500/500\n",
      "404/404 [==============================] - 4s 9ms/step - loss: 0.0257 - accuracy: 0.9944\n"
     ]
    }
   ],
   "source": [
    "Batch_Size = 4\n",
    "Shift_Range = 1\n",
    "Brightness_Range = 0.2\n",
    "Rotation_Angle = 5\n",
    "ZoomRange = 0.3\n",
    "\n",
    "datagen = ImageDataGenerator(width_shift_range=[-Shift_Range,Shift_Range], \n",
    "                             height_shift_range=[-Shift_Range,Shift_Range],\n",
    "                             brightness_range=[1-Brightness_Range,1+Brightness_Range],\n",
    "                             zoom_range=[1-ZoomRange, 1+ZoomRange],\n",
    "                             rotation_range=Rotation_Angle)\n",
    "\n",
    "if (Training_Percentage > 0):\n",
    "    train_iterator = datagen.flow(x_data, y_data, batch_size=Batch_Size)\n",
    "    validation_iterator = datagen.flow(X_test, y_test, batch_size=Batch_Size)\n",
    "    history = model.fit(train_iterator, validation_data = validation_iterator, epochs = Epoch_Anz)\n",
    "else:\n",
    "    train_iterator = datagen.flow(x_data, y_data, batch_size=Batch_Size)\n",
    "    history = model.fit(train_iterator, epochs = Epoch_Anz)\n",
    "\n"
   ]
  },
  {
   "cell_type": "markdown",
   "metadata": {},
   "source": [
    "### Learing result\n",
    " \n",
    "* Visualization of the training and validation results"
   ]
  },
  {
   "cell_type": "code",
   "execution_count": 5,
   "metadata": {},
   "outputs": [
    {
     "data": {
      "image/png": "[encoded data removed]",
      "text/plain": [
       "<Figure size 432x288 with 1 Axes>"
      ]
     },
     "metadata": {
      "needs_background": "light"
     },
     "output_type": "display_data"
    }
   ],
   "source": [
    "loss_ges = np.append(loss_ges, history.history['loss'])\n",
    "plt.semilogy(history.history['loss'])\n",
    "\n",
    "if (Training_Percentage > 0):\n",
    "    val_loss_ges = np.append(val_loss_ges, history.history['val_loss'])\n",
    "    plt.semilogy(history.history['val_loss'])\n",
    "\n",
    "plt.title('model loss')\n",
    "plt.ylabel('loss')\n",
    "plt.xlabel('epoch')\n",
    "plt.legend(['train','eval'], loc='upper left')\n",
    "plt.show()"
   ]
  },
  {
   "cell_type": "markdown",
   "metadata": {},
   "source": [
    "### Check the model by hand\n",
    "\n",
    "* The following code uses the trained model to check the deviation for each picture.\n",
    "* x-axis walks through each pixel, y-axis shows the result"
   ]
  },
  {
   "cell_type": "markdown",
   "metadata": {},
   "source": [
    "### Check each image for expected and deviation\n",
    "* setting the switch \"only_deviation = true\" will only print the images for which the classification and the CNN-result deviates\n",
    "\n",
    "The output contains the following information:\n",
    "\n",
    "| Filename      | Expected Category           | Predicted Category        |\n",
    "|------------- |:-----------------------------:|--------------|\n",
    "| ziffer_sortiert_resize_NaN/5\\Ziffer_4_0034.jpg | 4  | -1 |\n"
   ]
  },
  {
   "cell_type": "code",
   "execution_count": 6,
   "metadata": {},
   "outputs": [
    {
     "name": "stdout",
     "output_type": "stream",
     "text": [
      "ziffer_sortiert_resize\\0_0_ht7_20210626-130845.jpg 0 -1\n"
     ]
    },
    {
     "data": {
      "image/png": "[encoded data removed]",
      "text/plain": [
       "<PIL.JpegImagePlugin.JpegImageFile image mode=RGB size=20x32 at 0x189C2F3E7C0>"
      ]
     },
     "metadata": {},
     "output_type": "display_data"
    },
    {
     "name": "stdout",
     "output_type": "stream",
     "text": [
      "ziffer_sortiert_resize\\0_0_nt1_20210625-212553.jpg 0 1\n"
     ]
    },
    {
     "data": {
      "image/png": "[encoded data removed]",
      "text/plain": [
       "<PIL.JpegImagePlugin.JpegImageFile image mode=RGB size=20x32 at 0x189C2F32D30>"
      ]
     },
     "metadata": {},
     "output_type": "display_data"
    },
    {
     "name": "stdout",
     "output_type": "stream",
     "text": [
      "ziffer_sortiert_resize\\0_0_nt1_20210626-090405.jpg 0 1\n"
     ]
    },
    {
     "data": {
      "image/png": "[encoded data removed]",
      "text/plain": [
       "<PIL.JpegImagePlugin.JpegImageFile image mode=RGB size=20x32 at 0x189C2FD1B80>"
      ]
     },
     "metadata": {},
     "output_type": "display_data"
    },
    {
     "name": "stdout",
     "output_type": "stream",
     "text": [
      "ziffer_sortiert_resize\\0_10_nt1_20210626-095934.jpg 0 1\n"
     ]
    },
    {
     "data": {
      "image/png": "[encoded data removed]",
      "text/plain": [
       "<PIL.JpegImagePlugin.JpegImageFile image mode=RGB size=20x32 at 0x189C2F26DF0>"
      ]
     },
     "metadata": {},
     "output_type": "display_data"
    },
    {
     "name": "stdout",
     "output_type": "stream",
     "text": [
      "ziffer_sortiert_resize\\0_1_ht5_20210627-220703.jpg 0 1\n"
     ]
    },
    {
     "data": {
      "image/png": "[encoded data removed]",
      "text/plain": [
       "<PIL.JpegImagePlugin.JpegImageFile image mode=RGB size=20x32 at 0x189C305B3D0>"
      ]
     },
     "metadata": {},
     "output_type": "display_data"
    },
    {
     "name": "stdout",
     "output_type": "stream",
     "text": [
      "ziffer_sortiert_resize\\0_D6_2020-08-16_01-02-52.jpg 0 -1\n"
     ]
    },
    {
     "data": {
      "image/png": "[encoded data removed]",
      "text/plain": [
       "<PIL.JpegImagePlugin.JpegImageFile image mode=RGB size=20x32 at 0x189C2FBC580>"
      ]
     },
     "metadata": {},
     "output_type": "display_data"
    },
    {
     "name": "stdout",
     "output_type": "stream",
     "text": [
      "ziffer_sortiert_resize\\1_0_ht7_20210702-083138.jpg 1 -1\n"
     ]
    },
    {
     "data": {
      "image/png": "[encoded data removed]",
      "text/plain": [
       "<PIL.JpegImagePlugin.JpegImageFile image mode=RGB size=20x32 at 0x189C3133070>"
      ]
     },
     "metadata": {},
     "output_type": "display_data"
    },
    {
     "name": "stdout",
     "output_type": "stream",
     "text": [
      "ziffer_sortiert_resize\\2_0_nt7_20210627-212101.jpg 2 -1\n"
     ]
    },
    {
     "data": {
      "image/png": "[encoded data removed]",
      "text/plain": [
       "<PIL.JpegImagePlugin.JpegImageFile image mode=RGB size=20x32 at 0x189C326CA00>"
      ]
     },
     "metadata": {},
     "output_type": "display_data"
    },
    {
     "name": "stdout",
     "output_type": "stream",
     "text": [
      "ziffer_sortiert_resize\\2_10_dig6_20210726-190157.jpg 2 -1\n"
     ]
    },
    {
     "data": {
      "image/png": "[encoded data removed]",
      "text/plain": [
       "<PIL.JpegImagePlugin.JpegImageFile image mode=RGB size=20x32 at 0x189C314F5B0>"
      ]
     },
     "metadata": {},
     "output_type": "display_data"
    },
    {
     "name": "stdout",
     "output_type": "stream",
     "text": [
      "ziffer_sortiert_resize\\2_10_dig6_20210727-130728.jpg 2 -1\n"
     ]
    },
    {
     "data": {
      "image/png": "[encoded data removed]",
      "text/plain": [
       "<PIL.JpegImagePlugin.JpegImageFile image mode=RGB size=20x32 at 0x189C321F5E0>"
      ]
     },
     "metadata": {},
     "output_type": "display_data"
    },
    {
     "name": "stdout",
     "output_type": "stream",
     "text": [
      "ziffer_sortiert_resize\\2_2_ht6_20210626-080221.jpg 2 -1\n"
     ]
    },
    {
     "data": {
      "image/png": "[encoded data removed]",
      "text/plain": [
       "<PIL.JpegImagePlugin.JpegImageFile image mode=RGB size=20x32 at 0x189C316BDF0>"
      ]
     },
     "metadata": {},
     "output_type": "display_data"
    },
    {
     "name": "stdout",
     "output_type": "stream",
     "text": [
      "ziffer_sortiert_resize\\3_0_ht6_20210702-055135.jpg 3 9\n"
     ]
    },
    {
     "data": {
      "image/png": "[encoded data removed]",
      "text/plain": [
       "<PIL.JpegImagePlugin.JpegImageFile image mode=RGB size=20x32 at 0x189C337A1F0>"
      ]
     },
     "metadata": {},
     "output_type": "display_data"
    },
    {
     "name": "stdout",
     "output_type": "stream",
     "text": [
      "ziffer_sortiert_resize\\3_1_ht4_20210627-124615.jpg 3 -1\n"
     ]
    },
    {
     "data": {
      "image/png": "[encoded data removed]",
      "text/plain": [
       "<PIL.JpegImagePlugin.JpegImageFile image mode=RGB size=20x32 at 0x189C2BF7070>"
      ]
     },
     "metadata": {},
     "output_type": "display_data"
    },
    {
     "name": "stdout",
     "output_type": "stream",
     "text": [
      "ziffer_sortiert_resize\\3_6_ht6_20210702-044832.jpg 3 8\n"
     ]
    },
    {
     "data": {
      "image/png": "[encoded data removed]",
      "text/plain": [
       "<PIL.JpegImagePlugin.JpegImageFile image mode=RGB size=20x32 at 0x189C2BDE6D0>"
      ]
     },
     "metadata": {},
     "output_type": "display_data"
    },
    {
     "name": "stdout",
     "output_type": "stream",
     "text": [
      "ziffer_sortiert_resize\\4_10_dig4_20210709-181251.jpg 4 -1\n"
     ]
    },
    {
     "data": {
      "image/png": "[encoded data removed]",
      "text/plain": [
       "<PIL.JpegImagePlugin.JpegImageFile image mode=RGB size=20x32 at 0x189C2DAA640>"
      ]
     },
     "metadata": {},
     "output_type": "display_data"
    },
    {
     "name": "stdout",
     "output_type": "stream",
     "text": [
      "ziffer_sortiert_resize\\4_10_ht6_20210628-105540.jpg 4 -1\n"
     ]
    },
    {
     "data": {
      "image/png": "[encoded data removed]",
      "text/plain": [
       "<PIL.JpegImagePlugin.JpegImageFile image mode=RGB size=20x32 at 0x189C315B280>"
      ]
     },
     "metadata": {},
     "output_type": "display_data"
    },
    {
     "name": "stdout",
     "output_type": "stream",
     "text": [
      "ziffer_sortiert_resize\\4_4_dig6_20210724-184309.jpg 4 -1\n"
     ]
    },
    {
     "data": {
      "image/png": "[encoded data removed]",
      "text/plain": [
       "<PIL.JpegImagePlugin.JpegImageFile image mode=RGB size=20x32 at 0x189C2DAAA30>"
      ]
     },
     "metadata": {},
     "output_type": "display_data"
    },
    {
     "name": "stdout",
     "output_type": "stream",
     "text": [
      "ziffer_sortiert_resize\\5_3_dig4_20210721-144728.jpg 5 -1\n"
     ]
    },
    {
     "data": {
      "image/png": "[encoded data removed]",
      "text/plain": [
       "<PIL.JpegImagePlugin.JpegImageFile image mode=RGB size=20x32 at 0x189C2F11DF0>"
      ]
     },
     "metadata": {},
     "output_type": "display_data"
    },
    {
     "name": "stdout",
     "output_type": "stream",
     "text": [
      "ziffer_sortiert_resize\\5_3_dig6_20210723-134707.jpg 5 9\n"
     ]
    },
    {
     "data": {
      "image/png": "[encoded data removed]",
      "text/plain": [
       "<PIL.JpegImagePlugin.JpegImageFile image mode=RGB size=20x32 at 0x189C34258E0>"
      ]
     },
     "metadata": {},
     "output_type": "display_data"
    },
    {
     "name": "stdout",
     "output_type": "stream",
     "text": [
      "ziffer_sortiert_resize\\5_digit3_2020-03-23_20-18-33.jpg 5 9\n"
     ]
    },
    {
     "data": {
      "image/png": "[encoded data removed]",
      "text/plain": [
       "<PIL.JpegImagePlugin.JpegImageFile image mode=RGB size=20x32 at 0x189C2F941F0>"
      ]
     },
     "metadata": {},
     "output_type": "display_data"
    },
    {
     "name": "stdout",
     "output_type": "stream",
     "text": [
      "ziffer_sortiert_resize\\6_10_ht6_20210628-141923.jpg 6 -1\n"
     ]
    },
    {
     "data": {
      "image/png": "[encoded data removed]",
      "text/plain": [
       "<PIL.JpegImagePlugin.JpegImageFile image mode=RGB size=20x32 at 0x189C2F09340>"
      ]
     },
     "metadata": {},
     "output_type": "display_data"
    },
    {
     "name": "stdout",
     "output_type": "stream",
     "text": [
      "ziffer_sortiert_resize\\6_10_ht6_20210628-164002.jpg 6 -1\n"
     ]
    },
    {
     "data": {
      "image/png": "[encoded data removed]",
      "text/plain": [
       "<PIL.JpegImagePlugin.JpegImageFile image mode=RGB size=20x32 at 0x189C2F09DF0>"
      ]
     },
     "metadata": {},
     "output_type": "display_data"
    },
    {
     "name": "stdout",
     "output_type": "stream",
     "text": [
      "ziffer_sortiert_resize\\6_3_dig4_20210722-224727.jpg 6 -1\n"
     ]
    },
    {
     "data": {
      "image/png": "[encoded data removed]",
      "text/plain": [
       "<PIL.JpegImagePlugin.JpegImageFile image mode=RGB size=20x32 at 0x189C2F11850>"
      ]
     },
     "metadata": {},
     "output_type": "display_data"
    },
    {
     "name": "stdout",
     "output_type": "stream",
     "text": [
      "ziffer_sortiert_resize\\6_3_dig6_20210716-024719.jpg 6 -1\n"
     ]
    },
    {
     "data": {
      "image/png": "[encoded data removed]",
      "text/plain": [
       "<PIL.JpegImagePlugin.JpegImageFile image mode=RGB size=20x32 at 0x189C2FB6970>"
      ]
     },
     "metadata": {},
     "output_type": "display_data"
    },
    {
     "name": "stdout",
     "output_type": "stream",
     "text": [
      "ziffer_sortiert_resize\\6_3_dig6_20210722-014747.jpg 6 -1\n"
     ]
    },
    {
     "data": {
      "image/png": "[encoded data removed]",
      "text/plain": [
       "<PIL.JpegImagePlugin.JpegImageFile image mode=RGB size=20x32 at 0x189C3109250>"
      ]
     },
     "metadata": {},
     "output_type": "display_data"
    },
    {
     "name": "stdout",
     "output_type": "stream",
     "text": [
      "ziffer_sortiert_resize\\6_D8_2020-08-19_20-22-27.jpg 6 -1\n"
     ]
    },
    {
     "data": {
      "image/png": "[encoded data removed]",
      "text/plain": [
       "<PIL.JpegImagePlugin.JpegImageFile image mode=RGB size=20x32 at 0x189C3388F70>"
      ]
     },
     "metadata": {},
     "output_type": "display_data"
    },
    {
     "name": "stdout",
     "output_type": "stream",
     "text": [
      "ziffer_sortiert_resize\\7_10_dig6_20210727-150532.jpg 7 -1\n"
     ]
    },
    {
     "data": {
      "image/png": "[encoded data removed]",
      "text/plain": [
       "<PIL.JpegImagePlugin.JpegImageFile image mode=RGB size=20x32 at 0x189C3196B50>"
      ]
     },
     "metadata": {},
     "output_type": "display_data"
    },
    {
     "name": "stdout",
     "output_type": "stream",
     "text": [
      "ziffer_sortiert_resize\\7_10_ht6_20210703-133250.jpg 7 -1\n"
     ]
    },
    {
     "data": {
      "image/png": "[encoded data removed]",
      "text/plain": [
       "<PIL.JpegImagePlugin.JpegImageFile image mode=RGB size=20x32 at 0x189C32CF130>"
      ]
     },
     "metadata": {},
     "output_type": "display_data"
    },
    {
     "name": "stdout",
     "output_type": "stream",
     "text": [
      "ziffer_sortiert_resize\\7_D7_2020-08-19_22-45-38.jpg 7 -1\n"
     ]
    },
    {
     "data": {
      "image/png": "[encoded data removed]",
      "text/plain": [
       "<PIL.JpegImagePlugin.JpegImageFile image mode=RGB size=20x32 at 0x189C3351850>"
      ]
     },
     "metadata": {},
     "output_type": "display_data"
    },
    {
     "name": "stdout",
     "output_type": "stream",
     "text": [
      "ziffer_sortiert_resize\\7_D7_2020-08-20_15-23-28.jpg 7 -1\n"
     ]
    },
    {
     "data": {
      "image/png": "[encoded data removed]",
      "text/plain": [
       "<PIL.JpegImagePlugin.JpegImageFile image mode=RGB size=20x32 at 0x189C33A6880>"
      ]
     },
     "metadata": {},
     "output_type": "display_data"
    },
    {
     "name": "stdout",
     "output_type": "stream",
     "text": [
      "ziffer_sortiert_resize\\8_3_dig4_20210725-094630.jpg 8 -1\n"
     ]
    },
    {
     "data": {
      "image/png": "[encoded data removed]",
      "text/plain": [
       "<PIL.JpegImagePlugin.JpegImageFile image mode=RGB size=20x32 at 0x189C3110E50>"
      ]
     },
     "metadata": {},
     "output_type": "display_data"
    },
    {
     "name": "stdout",
     "output_type": "stream",
     "text": [
      "ziffer_sortiert_resize\\8_3_dig6_20210716-214753.jpg 8 -1\n"
     ]
    },
    {
     "data": {
      "image/png": "[encoded data removed]",
      "text/plain": [
       "<PIL.JpegImagePlugin.JpegImageFile image mode=RGB size=20x32 at 0x189C3110280>"
      ]
     },
     "metadata": {},
     "output_type": "display_data"
    },
    {
     "name": "stdout",
     "output_type": "stream",
     "text": [
      "ziffer_sortiert_resize\\8_D7_2020-08-14_00-01-25.jpg 8 -1\n"
     ]
    },
    {
     "data": {
      "image/png": "[encoded data removed]",
      "text/plain": [
       "<PIL.JpegImagePlugin.JpegImageFile image mode=RGB size=20x32 at 0x189C2983190>"
      ]
     },
     "metadata": {},
     "output_type": "display_data"
    },
    {
     "name": "stdout",
     "output_type": "stream",
     "text": [
      "ziffer_sortiert_resize\\9_0_ht3_20210703-024255.jpg 9 -1\n"
     ]
    },
    {
     "data": {
      "image/png": "[encoded data removed]",
      "text/plain": [
       "<PIL.JpegImagePlugin.JpegImageFile image mode=RGB size=20x32 at 0x189C2CE42B0>"
      ]
     },
     "metadata": {},
     "output_type": "display_data"
    },
    {
     "name": "stdout",
     "output_type": "stream",
     "text": [
      "ziffer_sortiert_resize\\9_3_dig4_20210726-214704.jpg 9 -1\n"
     ]
    },
    {
     "data": {
      "image/png": "[encoded data removed]",
      "text/plain": [
       "<PIL.JpegImagePlugin.JpegImageFile image mode=RGB size=20x32 at 0x189C2D7E850>"
      ]
     },
     "metadata": {},
     "output_type": "display_data"
    },
    {
     "name": "stdout",
     "output_type": "stream",
     "text": [
      "ziffer_sortiert_resize\\9_D8_2020-08-20_11-32-19.jpg 9 -1\n"
     ]
    },
    {
     "data": {
      "image/png": "[encoded data removed]",
      "text/plain": [
       "<PIL.JpegImagePlugin.JpegImageFile image mode=RGB size=20x32 at 0x189C2F3BD30>"
      ]
     },
     "metadata": {},
     "output_type": "display_data"
    },
    {
     "data": {
      "image/png": "[encoded data removed]",
      "text/plain": [
       "<Figure size 432x288 with 1 Axes>"
      ]
     },
     "metadata": {
      "needs_background": "light"
     },
     "output_type": "display_data"
    }
   ],
   "source": [
    "Input_dir='ziffer_sortiert_resize'\n",
    "res = []\n",
    "only_deviation = True\n",
    "show_wrong_image = True\n",
    "\n",
    "files = glob.glob(Input_dir + '/*.jpg')\n",
    "\n",
    "for aktfile in files:\n",
    "    base = os.path.basename(aktfile)\n",
    "    target = base[0:1]\n",
    "    if target == \"N\":\n",
    "        zw1 = -1\n",
    "    else:\n",
    "        zw1 = int(target)\n",
    "    expected_class = zw1\n",
    "    image_in = Image.open(aktfile)\n",
    "    test_image = np.array(image_in, dtype=\"float32\")\n",
    "    img = np.reshape(test_image,[1,32,20,3])\n",
    "    classes = np.argmax(model.predict(img), axis=-1)\n",
    "    classes = classes[0]\n",
    "    if classes == 10: \n",
    "        classes = -1\n",
    "    zw2 = classes\n",
    "    zw3 = zw2 - zw1\n",
    "    res.append(np.array([zw1, zw2, zw3]))\n",
    "    if only_deviation == True:\n",
    "        if str(classes) != str(expected_class):\n",
    "            print(aktfile + \" \" + str(expected_class) +  \" \" + str(classes))\n",
    "            if show_wrong_image == True:\n",
    "                display(image_in)\n",
    "    else:\n",
    "        print(aktfile + \" \" + aktsubdir +  \" \" + str(classes))\n",
    "        \n",
    "\n",
    "res = np.asarray(res)\n",
    "\n",
    "\n",
    "plt.plot(res[:,0])\n",
    "plt.plot(res[:,1])\n",
    "plt.title('Result')\n",
    "plt.ylabel('Digital Value')\n",
    "plt.xlabel('#Picture')\n",
    "plt.legend(['real','model'], loc='upper left')\n",
    "plt.show()"
   ]
  },
  {
   "cell_type": "markdown",
   "metadata": {},
   "source": [
    "### Save the model\n",
    "\n",
    "* Save the model to the file with the \"h5\" file format"
   ]
  },
  {
   "cell_type": "code",
   "execution_count": 7,
   "metadata": {},
   "outputs": [
    {
     "name": "stdout",
     "output_type": "stream",
     "text": [
      "INFO:tensorflow:Assets written to: C:\\Users\\Muell\\AppData\\Local\\Temp\\tmpb4k51kqh\\assets\n"
     ]
    },
    {
     "data": {
      "text/plain": [
       "356508"
      ]
     },
     "execution_count": 7,
     "metadata": {},
     "output_type": "execute_result"
    }
   ],
   "source": [
    "FileName = TFliteNamingAndVersion\n",
    "\n",
    "converter = tf.lite.TFLiteConverter.from_keras_model(model)\n",
    "tflite_model = converter.convert()\n",
    "open(FileName + \".tflite\", \"wb\").write(tflite_model)"
   ]
  },
  {
   "cell_type": "code",
   "execution_count": 8,
   "metadata": {},
   "outputs": [
    {
     "name": "stdout",
     "output_type": "stream",
     "text": [
      "INFO:tensorflow:Assets written to: C:\\Users\\Muell\\AppData\\Local\\Temp\\tmpy3cd5hi6\\assets\n"
     ]
    },
    {
     "name": "stderr",
     "output_type": "stream",
     "text": [
      "INFO:tensorflow:Assets written to: C:\\Users\\Muell\\AppData\\Local\\Temp\\tmpy3cd5hi6\\assets\n"
     ]
    },
    {
     "name": "stdout",
     "output_type": "stream",
     "text": [
      "dig1330s2q.tflite\n"
     ]
    },
    {
     "data": {
      "text/plain": [
       "98416"
      ]
     },
     "execution_count": 8,
     "metadata": {},
     "output_type": "execute_result"
    }
   ],
   "source": [
    "FileName = TFliteNamingAndVersion + \"q.tflite\"\n",
    "\n",
    "import tensorflow as tf\n",
    "\n",
    "def representative_dataset():\n",
    "    for n in range(x_data[0].size):\n",
    "      data = np.expand_dims(x_data[5], axis=0)\n",
    "      yield [data.astype(np.float32)]\n",
    "        \n",
    "converter2 = tf.lite.TFLiteConverter.from_keras_model(model)\n",
    "converter2.representative_dataset = representative_dataset\n",
    "converter2.optimizations = [tf.lite.Optimize.DEFAULT]\n",
    "converter2.representative_dataset = representative_dataset\n",
    "tflite_quant_model = converter2.convert()\n",
    "\n",
    "open(FileName, \"wb\").write(tflite_quant_model)\n",
    "print(FileName)\n",
    "Path(FileName).stat().st_size"
   ]
  },
  {
   "cell_type": "markdown",
   "metadata": {},
   "source": [
    "Checking the images shows, that this are border line images, which can be interpreted as a good digit or a faulty one."
   ]
  }
 ],
 "metadata": {
  "kernelspec": {
   "display_name": "Python 3 (ipykernel)",
   "language": "python",
   "name": "python3"
  },
  "language_info": {
   "codemirror_mode": {
    "name": "ipython",
    "version": 3
   },
   "file_extension": ".py",
   "mimetype": "text/x-python",
   "name": "python",
   "nbconvert_exporter": "python",
   "pygments_lexer": "ipython3",
   "version": "3.8.11"
  }
 },
 "nbformat": 4,
 "nbformat_minor": 2
}
